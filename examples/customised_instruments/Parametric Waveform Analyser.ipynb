{
 "cells": [
  {
   "cell_type": "markdown",
   "metadata": {},
   "source": [
    "# Parametric Waveform Analyser\n",
    "\n",
    "This instrument consists of two extended multiplexers; one for readout and one for drive. They share a parametric sequencer and the parameters from each are used to build a context dictionary to set what is uploaded to the aw. The drive multiplexer sidebands one microwave source and the readout multiplexer sidebands a heterodyne microwave source. The settings of an alazar card are updated based on what is running on the sequencer and the preferences of the readout multiplexer. Template elements are loaded from yaml files."
   ]
  },
  {
   "cell_type": "code",
   "execution_count": 17,
   "metadata": {},
   "outputs": [],
   "source": [
    "import numpy as np\n",
    "import os\n",
    "import yaml\n",
    "from pprint import pprint\n",
    "from lomentum.loader import read_element\n",
    "from lomentum.plotting import plotter\n",
    "from lomentum.loader import register_user_module\n",
    "from qdev_wrappers.pulse_building import atoms_ext \n",
    "from qcodes.instrument.base import InstrumentBase\n",
    "from qdev_wrappers.station_configurator import StationConfigurator\n",
    "from qdev_wrappers.alazar_controllers.ATSChannelController import ATSChannelController\n",
    "from qdev_wrappers.customised_instruments.interfaces.microwave_source_interface import SimulatedMicrowaveSourceInterface, SGS100AMicrowaveSourceInterface, SGS100AExternalMicrowaveSourceInterface\n",
    "from qdev_wrappers.customised_instruments.interfaces.AWG_interface import SimulatedAWGInterface, AWG5014Interface\n",
    "from qdev_wrappers.customised_instruments.composite_instruments.parametric_sequencer.parametric_sequencer import ParametricSequencer\n",
    "from qdev_wrappers.customised_instruments.composite_instruments.parametric_waveform_analyser.pwa import ParametricWaveformAnalyser\n",
    "from qdev_wrappers.customised_instruments.composite_instruments.heterodyne_source.heterodyne_source import OneSourceHeterodyneSource, SimulatedHeterodyneSource\n",
    "register_user_module(atoms_ext)"
   ]
  },
  {
   "cell_type": "code",
   "execution_count": 15,
   "metadata": {},
   "outputs": [],
   "source": [
    "def print_params(*instruments):\n",
    "    for instr in instruments:\n",
    "        print('\\n')\n",
    "        print(instr.name.upper())\n",
    "        for k, v in instr.parameters.items():\n",
    "            if k != 'IDN':\n",
    "                print(k, ': ', v())\n",
    "        for k, v in instr.submodules.items():\n",
    "            if isinstance(v, InstrumentBase):\n",
    "                print_params(v)"
   ]
  },
  {
   "cell_type": "code",
   "execution_count": 19,
   "metadata": {},
   "outputs": [],
   "source": [
    "real_instruments_present = True"
   ]
  },
  {
   "cell_type": "code",
   "execution_count": 20,
   "metadata": {},
   "outputs": [
    {
     "ename": "FileNotFoundError",
     "evalue": "[Errno 2] No such file or directory: 'instrument_config.yml'",
     "output_type": "error",
     "traceback": [
      "\u001b[0;31m---------------------------------------------------------------------------\u001b[0m",
      "\u001b[0;31mFileNotFoundError\u001b[0m                         Traceback (most recent call last)",
      "\u001b[0;32m~/Documents/PhD/Qdev/QdevWrappers/qdev_wrappers/station_configurator.py\u001b[0m in \u001b[0;36mload_file\u001b[0;34m(self, filename)\u001b[0m\n\u001b[1;32m     82\u001b[0m                     with open(os.path.join(default_folder, filename),\n\u001b[0;32m---> 83\u001b[0;31m                               'r') as f:\n\u001b[0m\u001b[1;32m     84\u001b[0m                         \u001b[0mself\u001b[0m\u001b[0;34m.\u001b[0m\u001b[0mconfig\u001b[0m \u001b[0;34m=\u001b[0m \u001b[0myaml\u001b[0m\u001b[0;34m.\u001b[0m\u001b[0mload\u001b[0m\u001b[0;34m(\u001b[0m\u001b[0mf\u001b[0m\u001b[0;34m)\u001b[0m\u001b[0;34m\u001b[0m\u001b[0;34m\u001b[0m\u001b[0m\n",
      "\u001b[0;31mFileNotFoundError\u001b[0m: [Errno 2] No such file or directory: './instrument_config.yml'",
      "\nDuring handling of the above exception, another exception occurred:\n",
      "\u001b[0;31mFileNotFoundError\u001b[0m                         Traceback (most recent call last)",
      "\u001b[0;32m<ipython-input-20-93d3fcaed629>\u001b[0m in \u001b[0;36m<module>\u001b[0;34m\u001b[0m\n\u001b[1;32m      9\u001b[0m \u001b[0;34m\u001b[0m\u001b[0m\n\u001b[1;32m     10\u001b[0m \u001b[0;32mif\u001b[0m \u001b[0mreal_instruments_present\u001b[0m\u001b[0;34m:\u001b[0m\u001b[0;34m\u001b[0m\u001b[0;34m\u001b[0m\u001b[0m\n\u001b[0;32m---> 11\u001b[0;31m     \u001b[0msc\u001b[0m \u001b[0;34m=\u001b[0m \u001b[0mStationConfigurator\u001b[0m\u001b[0;34m(\u001b[0m\u001b[0;34m)\u001b[0m\u001b[0;34m\u001b[0m\u001b[0;34m\u001b[0m\u001b[0m\n\u001b[0m\u001b[1;32m     12\u001b[0m     \u001b[0mawg_instrument\u001b[0m \u001b[0;34m=\u001b[0m \u001b[0msc\u001b[0m\u001b[0;34m.\u001b[0m\u001b[0mload_instrument\u001b[0m\u001b[0;34m(\u001b[0m\u001b[0;34m'awg'\u001b[0m\u001b[0;34m)\u001b[0m\u001b[0;34m\u001b[0m\u001b[0;34m\u001b[0m\u001b[0m\n\u001b[1;32m     13\u001b[0m     \u001b[0mdrive_microwave_source_instrument\u001b[0m \u001b[0;34m=\u001b[0m \u001b[0msc\u001b[0m\u001b[0;34m.\u001b[0m\u001b[0mload_instrument\u001b[0m\u001b[0;34m(\u001b[0m\u001b[0;34m'microwave_source'\u001b[0m\u001b[0;34m)\u001b[0m\u001b[0;34m\u001b[0m\u001b[0;34m\u001b[0m\u001b[0m\n",
      "\u001b[0;32m~/Documents/PhD/Qdev/QdevWrappers/qdev_wrappers/station_configurator.py\u001b[0m in \u001b[0;36m__init__\u001b[0;34m(self, filename, station)\u001b[0m\n\u001b[1;32m     52\u001b[0m         \u001b[0mself\u001b[0m\u001b[0;34m.\u001b[0m\u001b[0mfilename\u001b[0m \u001b[0;34m=\u001b[0m \u001b[0mfilename\u001b[0m\u001b[0;34m\u001b[0m\u001b[0;34m\u001b[0m\u001b[0m\n\u001b[1;32m     53\u001b[0m \u001b[0;34m\u001b[0m\u001b[0m\n\u001b[0;32m---> 54\u001b[0;31m         \u001b[0mself\u001b[0m\u001b[0;34m.\u001b[0m\u001b[0mload_file\u001b[0m\u001b[0;34m(\u001b[0m\u001b[0mself\u001b[0m\u001b[0;34m.\u001b[0m\u001b[0mfilename\u001b[0m\u001b[0;34m)\u001b[0m\u001b[0;34m\u001b[0m\u001b[0;34m\u001b[0m\u001b[0m\n\u001b[0m\u001b[1;32m     55\u001b[0m         \u001b[0;32mfor\u001b[0m \u001b[0minstrument_name\u001b[0m \u001b[0;32min\u001b[0m \u001b[0mself\u001b[0m\u001b[0;34m.\u001b[0m\u001b[0m_instrument_config\u001b[0m\u001b[0;34m.\u001b[0m\u001b[0mkeys\u001b[0m\u001b[0;34m(\u001b[0m\u001b[0;34m)\u001b[0m\u001b[0;34m:\u001b[0m\u001b[0;34m\u001b[0m\u001b[0;34m\u001b[0m\u001b[0m\n\u001b[1;32m     56\u001b[0m             \u001b[0;31m# TODO: check if name is valid (does not start with digit, contain\u001b[0m\u001b[0;34m\u001b[0m\u001b[0;34m\u001b[0m\u001b[0;34m\u001b[0m\u001b[0m\n",
      "\u001b[0;32m~/Documents/PhD/Qdev/QdevWrappers/qdev_wrappers/station_configurator.py\u001b[0m in \u001b[0;36mload_file\u001b[0;34m(self, filename)\u001b[0m\n\u001b[1;32m     84\u001b[0m                         \u001b[0mself\u001b[0m\u001b[0;34m.\u001b[0m\u001b[0mconfig\u001b[0m \u001b[0;34m=\u001b[0m \u001b[0myaml\u001b[0m\u001b[0;34m.\u001b[0m\u001b[0mload\u001b[0m\u001b[0;34m(\u001b[0m\u001b[0mf\u001b[0m\u001b[0;34m)\u001b[0m\u001b[0;34m\u001b[0m\u001b[0;34m\u001b[0m\u001b[0m\n\u001b[1;32m     85\u001b[0m                 \u001b[0;32mexcept\u001b[0m \u001b[0mFileNotFoundError\u001b[0m\u001b[0;34m:\u001b[0m\u001b[0;34m\u001b[0m\u001b[0;34m\u001b[0m\u001b[0m\n\u001b[0;32m---> 86\u001b[0;31m                     \u001b[0;32mraise\u001b[0m \u001b[0me\u001b[0m\u001b[0;34m\u001b[0m\u001b[0;34m\u001b[0m\u001b[0m\n\u001b[0m\u001b[1;32m     87\u001b[0m             \u001b[0;32melse\u001b[0m\u001b[0;34m:\u001b[0m\u001b[0;34m\u001b[0m\u001b[0;34m\u001b[0m\u001b[0m\n\u001b[1;32m     88\u001b[0m                 \u001b[0;32mraise\u001b[0m \u001b[0me\u001b[0m\u001b[0;34m\u001b[0m\u001b[0;34m\u001b[0m\u001b[0m\n",
      "\u001b[0;32m~/Documents/PhD/Qdev/QdevWrappers/qdev_wrappers/station_configurator.py\u001b[0m in \u001b[0;36mload_file\u001b[0;34m(self, filename)\u001b[0m\n\u001b[1;32m     75\u001b[0m             \u001b[0mfilename\u001b[0m \u001b[0;34m=\u001b[0m \u001b[0mdefault_file\u001b[0m\u001b[0;34m\u001b[0m\u001b[0;34m\u001b[0m\u001b[0m\n\u001b[1;32m     76\u001b[0m         \u001b[0;32mtry\u001b[0m\u001b[0;34m:\u001b[0m\u001b[0;34m\u001b[0m\u001b[0;34m\u001b[0m\u001b[0m\n\u001b[0;32m---> 77\u001b[0;31m             \u001b[0;32mwith\u001b[0m \u001b[0mopen\u001b[0m\u001b[0;34m(\u001b[0m\u001b[0mfilename\u001b[0m\u001b[0;34m,\u001b[0m \u001b[0;34m'r'\u001b[0m\u001b[0;34m)\u001b[0m \u001b[0;32mas\u001b[0m \u001b[0mf\u001b[0m\u001b[0;34m:\u001b[0m\u001b[0;34m\u001b[0m\u001b[0;34m\u001b[0m\u001b[0m\n\u001b[0m\u001b[1;32m     78\u001b[0m                 \u001b[0mself\u001b[0m\u001b[0;34m.\u001b[0m\u001b[0mconfig\u001b[0m \u001b[0;34m=\u001b[0m \u001b[0myaml\u001b[0m\u001b[0;34m.\u001b[0m\u001b[0mload\u001b[0m\u001b[0;34m(\u001b[0m\u001b[0mf\u001b[0m\u001b[0;34m)\u001b[0m\u001b[0;34m\u001b[0m\u001b[0;34m\u001b[0m\u001b[0m\n\u001b[1;32m     79\u001b[0m         \u001b[0;32mexcept\u001b[0m \u001b[0mFileNotFoundError\u001b[0m \u001b[0;32mas\u001b[0m \u001b[0me\u001b[0m\u001b[0;34m:\u001b[0m\u001b[0;34m\u001b[0m\u001b[0;34m\u001b[0m\u001b[0m\n",
      "\u001b[0;31mFileNotFoundError\u001b[0m: [Errno 2] No such file or directory: 'instrument_config.yml'"
     ]
    }
   ],
   "source": [
    "try:\n",
    "    Instrument.remove_instance(ps)\n",
    "    Instrument.remove_instance(awg_if)\n",
    "    Instrument.remove_instance(carrier_if)\n",
    "    Instrument.remove_instance(awg_instrument)\n",
    "    Instrument.remove_instance(microwave_source_instrument)\n",
    "except NameError:\n",
    "    pass\n",
    "\n",
    "if real_instruments_present:\n",
    "    sc = StationConfigurator()\n",
    "    awg_instrument = sc.load_instrument('awg')\n",
    "    drive_microwave_source_instrument = sc.load_instrument('microwave_source')\n",
    "    readout_microwave_source_instrument = sc.load_instrument('microwave_source_dual')\n",
    "    alazar_instrument = sc.load_instrument('alazar')\n",
    "    awg_if = AWG5014Interface('awg_if', awg_instrument)\n",
    "    drive_microwave_source_if = SGS100AExternalMicrowaveSourceInterface('drive_microwave_source_if',\n",
    "                                                                        drive_microwave_source_instrument)\n",
    "    readout_microwave_source_if = SGS100AMicrowaveSourceInterface('readout_microwave_source_if',\n",
    "                                                                  readout_microwave_source_instrument)\n",
    "    heterodyne_source = OneSourceHeterodyneSource('heterodyne_source', readout_microwave_source_if)\n",
    "else:\n",
    "    awg_if = SimulatedAWGInterface('awg_if')\n",
    "    drive_microwave_source_if = SimulatedMicrowaveSourceInterface('drive_microwave_source_if')\n",
    "    heterodyne_source = SimulatedHeterodyneSource('heterodyne_source')\n",
    "    raise RuntimeError('Simulte alazar before you go further!')\n",
    "\n",
    "ps = ParametricSequencer('ps', awg_if)\n",
    "alazar_controller = ATSChannelController(name='alazar_controller', alazar_name='alazar')\n",
    "ps.sequence_mode('element')\n",
    "\n",
    "# create multiplexer with two sidebanders.\n",
    "pwa = ParametricWaveformAnalyser('pwa', ps, alazar, alazar_controller, heterodyne_source, drive_source)"
   ]
  },
  {
   "cell_type": "markdown",
   "metadata": {},
   "source": [
    "### What is missing:\n",
    "\n",
    "- Ability to swap out alazar + heterodyne source for MIDAS\n",
    "- Ability to swap out tektronix AWG5014C for 4DSP system\n",
    "- Ability to simulate alazar"
   ]
  },
  {
   "cell_type": "code",
   "execution_count": null,
   "metadata": {},
   "outputs": [],
   "source": []
  }
 ],
 "metadata": {
  "kernelspec": {
   "display_name": "Python 3",
   "language": "python",
   "name": "python3"
  },
  "language_info": {
   "codemirror_mode": {
    "name": "ipython",
    "version": 3
   },
   "file_extension": ".py",
   "mimetype": "text/x-python",
   "name": "python",
   "nbconvert_exporter": "python",
   "pygments_lexer": "ipython3",
   "version": "3.6.7"
  }
 },
 "nbformat": 4,
 "nbformat_minor": 2
}
