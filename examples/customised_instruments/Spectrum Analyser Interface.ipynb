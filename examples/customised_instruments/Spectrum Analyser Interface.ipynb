{
 "cells": [
  {
   "cell_type": "code",
   "execution_count": 1,
   "metadata": {},
   "outputs": [],
   "source": [
    "from qcodes.instrument_drivers.signal_hound.USB_SA124B import SignalHound_USB_SA124B\n",
    "from qdev_wrappers.customised_instruments.interfaces.spectrum_analyser_interface import SimulatedSpectrumAnalyserInterface, USB_SA124BSpectrumAnalyserInterface"
   ]
  },
  {
   "cell_type": "code",
   "execution_count": 2,
   "metadata": {},
   "outputs": [],
   "source": [
    "def print_params(instr):\n",
    "    print(instr.name.upper())\n",
    "    for k, v in instr.parameters.items():\n",
    "        if k != 'IDN':\n",
    "            print(k, ': ', v())\n",
    "    print('\\n')"
   ]
  },
  {
   "cell_type": "markdown",
   "metadata": {},
   "source": [
    "### Simulated Spectrum Analyser\n",
    "Spectrum analyser simulation with default initial values as shown."
   ]
  },
  {
   "cell_type": "code",
   "execution_count": 3,
   "metadata": {},
   "outputs": [
    {
     "name": "stdout",
     "output_type": "stream",
     "text": [
      "SIMULATED_ANALYSER\n",
      "frequency :  5000000000.0\n",
      "span :  10000000.0\n",
      "bandwidth :  100000.0\n",
      "avg :  1\n",
      "npts :  100\n",
      "mode :  trace\n",
      "single :  0.5901671694387782\n",
      "trace :  [0.1398521  0.54036596 0.70273505 0.23348705 0.64707303 0.34763173\n",
      " 0.10881517 0.78923053 0.02672394 0.91189638 0.0407418  0.47342083\n",
      " 0.63728227 0.35851827 0.35355041 0.34309243 0.32715865 0.13360282\n",
      " 0.60251519 0.67765531 0.65531388 0.25122058 0.70306153 0.05883674\n",
      " 0.78487553 0.83874848 0.37143896 0.01551874 0.84371072 0.4970203\n",
      " 0.96755894 0.94174683 0.9238058  0.97133739 0.10120428 0.47914476\n",
      " 0.82864387 0.02012001 0.26188006 0.48974262 0.84212439 0.92097161\n",
      " 0.09898564 0.43158764 0.79256282 0.22809197 0.25518259 0.00505091\n",
      " 0.1906899  0.97965119 0.49176757 0.1934225  0.55387589 0.37832496\n",
      " 0.43062378 0.13845401 0.5620239  0.39343577 0.87831499 0.76765324\n",
      " 0.49399408 0.52953827 0.06981589 0.50634413 0.13103934 0.78549058\n",
      " 0.01728491 0.07918731 0.48589571 0.51259936 0.69047431 0.79066661\n",
      " 0.06681552 0.61832731 0.04228005 0.45194801 0.81008873 0.87275009\n",
      " 0.49264749 0.49972643 0.71670987 0.81071828 0.06380703 0.1624089\n",
      " 0.13805641 0.06873771 0.16180036 0.32790665 0.81923383 0.42075647\n",
      " 0.87601172 0.88334834 0.16615431 0.51522795 0.61328924 0.32560462\n",
      " 0.85454083 0.4918338  0.94587908 0.59682523]\n",
      "\n",
      "\n"
     ]
    }
   ],
   "source": [
    "simulated_spectrum_analyser_if = SimulatedSpectrumAnalyserInterface('simulated_analyser')\n",
    "print_params(simulated_spectrum_analyser_if)"
   ]
  },
  {
   "cell_type": "code",
   "execution_count": 4,
   "metadata": {},
   "outputs": [
    {
     "name": "stdout",
     "output_type": "stream",
     "text": [
      "SIMULATED_ANALYSER\n",
      "frequency :  6000000000.0\n",
      "span :  10000000.0\n",
      "bandwidth :  1000000.0\n",
      "avg :  4\n",
      "npts :  10\n",
      "mode :  trace\n",
      "single :  0.9956768086326266\n",
      "trace :  [0.58508794 0.45751476 0.49579275 0.10079691 0.42802547 0.60829354\n",
      " 0.91117976 0.67224732 0.23150803 0.69618339]\n",
      "\n",
      "\n"
     ]
    }
   ],
   "source": [
    "simulated_spectrum_analyser_if.frequency(6e9)\n",
    "simulated_spectrum_analyser_if.span(10e6)\n",
    "simulated_spectrum_analyser_if.bandwidth(1e6)\n",
    "simulated_spectrum_analyser_if.avg(4)\n",
    "simulated_spectrum_analyser_if.mode('trace')\n",
    "print_params(simulated_spectrum_analyser_if)"
   ]
  },
  {
   "cell_type": "markdown",
   "metadata": {},
   "source": [
    "Check that setting npts has the expected effect on bandwidth (and vice versa) and that setting the span changes bandwidth but not npts."
   ]
  },
  {
   "cell_type": "code",
   "execution_count": 5,
   "metadata": {},
   "outputs": [
    {
     "name": "stdout",
     "output_type": "stream",
     "text": [
      "setting npts to 5: \n",
      " bandwidth: 2000000.0\n"
     ]
    }
   ],
   "source": [
    "simulated_spectrum_analyser_if.npts(5)\n",
    "print('setting npts to 5: \\n bandwidth: {}'.format(simulated_spectrum_analyser_if.bandwidth()))"
   ]
  },
  {
   "cell_type": "code",
   "execution_count": 6,
   "metadata": {},
   "outputs": [
    {
     "name": "stdout",
     "output_type": "stream",
     "text": [
      "setting bandwidth to 1e3: \n",
      " npts: 10000\n"
     ]
    }
   ],
   "source": [
    "simulated_spectrum_analyser_if.bandwidth(1e3)\n",
    "print('setting bandwidth to 1e3: \\n npts: {}'.format(simulated_spectrum_analyser_if.npts()))"
   ]
  },
  {
   "cell_type": "code",
   "execution_count": 7,
   "metadata": {},
   "outputs": [
    {
     "name": "stdout",
     "output_type": "stream",
     "text": [
      "setting span to 1e6: \n",
      " bandwidth: 10000.0 \n",
      " npts: 10000\n"
     ]
    }
   ],
   "source": [
    "simulated_spectrum_analyser_if.span(100e6)\n",
    "print('setting span to 1e6: \\n bandwidth: {} \\n npts: {}'.format(simulated_spectrum_analyser_if.bandwidth(),\n",
    "                                                                  simulated_spectrum_analyser_if.npts()))"
   ]
  },
  {
   "cell_type": "markdown",
   "metadata": {},
   "source": [
    "### Real Spectrum Analyser"
   ]
  },
  {
   "cell_type": "code",
   "execution_count": null,
   "metadata": {},
   "outputs": [],
   "source": [
    "spectrum_analyser = SignalHound_USB_SA124B('spectrum_analyser_instrument')\n",
    "real_spectrum_analyser_if = USB_SA124BSpectrumAnalyserInterface('real_analyser', spectrum_analyser)\n",
    "real_spectrum_analyser_if.frequency(6e9)\n",
    "real_spectrum_analyser_if.span(10e6)\n",
    "real_spectrum_analyser_if.bandwidth(1e6)\n",
    "real_spectrum_analyser_if.avg(4)\n",
    "real_spectrum_analyser_if.mode('trace')"
   ]
  },
  {
   "cell_type": "code",
   "execution_count": null,
   "metadata": {},
   "outputs": [],
   "source": [
    "print_params(simulated_spectrum_analyser_if)"
   ]
  },
  {
   "cell_type": "markdown",
   "metadata": {},
   "source": [
    "Same checks as before:"
   ]
  },
  {
   "cell_type": "code",
   "execution_count": null,
   "metadata": {},
   "outputs": [],
   "source": [
    "real_spectrum_analyser_if.npts(5)\n",
    "print('setting npts to 5: \\n bandwidth: {}'.format(real_spectrum_analyser_if.bandwidth())"
   ]
  },
  {
   "cell_type": "code",
   "execution_count": null,
   "metadata": {},
   "outputs": [],
   "source": [
    "simulated_spectrum_analyser_if.bandwidth(1e3)\n",
    "print('setting bandwidth to 1e3: \\n npts: {}'.format(simulated_spectrum_analyser_if.npts())"
   ]
  },
  {
   "cell_type": "code",
   "execution_count": null,
   "metadata": {},
   "outputs": [],
   "source": [
    "real_spectrum_analyser_if.span(10e6)\n",
    "print('setting span to 10e6: \\n bandwidth: {} \\n npts: {}'.format(real_spectrum_analyser_if.bandwidth(),\n",
    "                                                                  real_spectrum_analyser_if.npts())"
   ]
  },
  {
   "cell_type": "markdown",
   "metadata": {},
   "source": [
    "Checking that the right mode is set (also when the 'single' and 'trace' parameters are accessed)"
   ]
  },
  {
   "cell_type": "code",
   "execution_count": null,
   "metadata": {},
   "outputs": [],
   "source": [
    "print('mode: ', real_spectrum_analyser.mode())\n",
    "print('rbw: ', real_spectrum_analyser_if._spectrum_analyser.rbw())\n",
    "print('bandwidth:', real_spectrum_analyser_if._spectrum_analyser.bandwidth())"
   ]
  },
  {
   "cell_type": "code",
   "execution_count": null,
   "metadata": {},
   "outputs": [],
   "source": [
    "real_spectrum_analyser.mode('single')\n",
    "print('mode: ', real_spectrum_analyser.mode())\n",
    "print('rbw: ', real_spectrum_analyser_if._spectrum_analyser.rbw())\n",
    "print('bandwidth:', real_spectrum_analyser_if._spectrum_analyser.bandwidth())"
   ]
  },
  {
   "cell_type": "code",
   "execution_count": null,
   "metadata": {},
   "outputs": [],
   "source": [
    "print(real_spectrum_analyser.trace())\n",
    "print('mode: ', real_spectrum_analyser.mode())\n",
    "print('rbw: ', real_spectrum_analyser_if._spectrum_analyser.rbw())\n",
    "print('bandwidth:', real_spectrum_analyser_if._spectrum_analyser.bandwidth())"
   ]
  },
  {
   "cell_type": "code",
   "execution_count": null,
   "metadata": {},
   "outputs": [],
   "source": [
    "print(real_spectrum_analyser.single())\n",
    "print('mode: ', real_spectrum_analyser.mode())\n",
    "print('rbw: ', real_spectrum_analyser_if._spectrum_analyser.rbw())\n",
    "print('bandwidth:', real_spectrum_analyser_if._spectrum_analyser.bandwidth())"
   ]
  }
 ],
 "metadata": {
  "kernelspec": {
   "display_name": "Python 3",
   "language": "python",
   "name": "python3"
  },
  "language_info": {
   "codemirror_mode": {
    "name": "ipython",
    "version": 3
   },
   "file_extension": ".py",
   "mimetype": "text/x-python",
   "name": "python",
   "nbconvert_exporter": "python",
   "pygments_lexer": "ipython3",
   "version": "3.6.7"
  }
 },
 "nbformat": 4,
 "nbformat_minor": 2
}
