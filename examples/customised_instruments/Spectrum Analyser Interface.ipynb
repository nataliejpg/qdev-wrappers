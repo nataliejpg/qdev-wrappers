{
 "cells": [
  {
   "cell_type": "code",
   "execution_count": 1,
   "metadata": {},
   "outputs": [],
   "source": [
    "from qcodes.instrument_drivers.signal_hound.USB_SA124B import SignalHound_USB_SA124B\n",
    "from qdev_wrappers.customised_instruments.interfaces.spectrum_analyser_interface import SimulatedSpectrumAnalyserInterface, USB_SA124BSpectrumAnalyserInterface"
   ]
  },
  {
   "cell_type": "code",
   "execution_count": 2,
   "metadata": {},
   "outputs": [],
   "source": [
    "def print_params(instr):\n",
    "    for k, v in instr.parameters.items():\n",
    "        print(k, ': ', v())"
   ]
  },
  {
   "cell_type": "markdown",
   "metadata": {},
   "source": [
    "### Simulated Spectrum Analyser"
   ]
  },
  {
   "cell_type": "code",
   "execution_count": 3,
   "metadata": {},
   "outputs": [],
   "source": [
    "simulated_spectrum_analyser_if = SimulatedSpectrumAnalyserInterface('simulated_analyser')\n",
    "simulated_spectrum_analyser_if.frequency(6e9)\n",
    "simulated_spectrum_analyser_if.span(10e6)\n",
    "simulated_spectrum_analyser_if.bandwidth(1e6)\n",
    "simulated_spectrum_analyser_if.avg(4)\n",
    "simulated_spectrum_analyser_if.mode('trace')"
   ]
  },
  {
   "cell_type": "code",
   "execution_count": 4,
   "metadata": {},
   "outputs": [
    {
     "name": "stdout",
     "output_type": "stream",
     "text": [
      "IDN :  {'vendor': None, 'model': 'simulated_analyser', 'serial': None, 'firmware': None}\n",
      "frequency :  6000000000.0\n",
      "span :  10000000.0\n",
      "bandwidth :  1000000.0\n",
      "avg :  4\n",
      "npts :  10\n",
      "mode :  trace\n",
      "single :  0.2958702552775677\n",
      "trace :  [0.09468415 0.87784932 0.71755329 0.78197817 0.74370942 0.58780581\n",
      " 0.57650642 0.61661427 0.7351994  0.84130047]\n"
     ]
    }
   ],
   "source": [
    "print_params(simulated_spectrum_analyser_if)"
   ]
  },
  {
   "cell_type": "markdown",
   "metadata": {},
   "source": [
    "Check that setting npts has the expected effect on bandwidth (and vice versa) and that setting the span changes bandwidth but not npts."
   ]
  },
  {
   "cell_type": "code",
   "execution_count": 7,
   "metadata": {},
   "outputs": [
    {
     "name": "stdout",
     "output_type": "stream",
     "text": [
      "setting npts to 5: \n",
      " bandwidth: 2000000.0\n"
     ]
    }
   ],
   "source": [
    "simulated_spectrum_analyser_if.npts(5)\n",
    "print('setting npts to 5: \\n bandwidth: {}'.format(simulated_spectrum_analyser_if.bandwidth()))"
   ]
  },
  {
   "cell_type": "code",
   "execution_count": 8,
   "metadata": {},
   "outputs": [
    {
     "name": "stdout",
     "output_type": "stream",
     "text": [
      "setting bandwidth to 1e3: \n",
      " npts: 10000\n"
     ]
    }
   ],
   "source": [
    "simulated_spectrum_analyser_if.bandwidth(1e3)\n",
    "print('setting bandwidth to 1e3: \\n npts: {}'.format(simulated_spectrum_analyser_if.npts()))"
   ]
  },
  {
   "cell_type": "code",
   "execution_count": 13,
   "metadata": {},
   "outputs": [
    {
     "name": "stdout",
     "output_type": "stream",
     "text": [
      "setting span to 1e6: \n",
      " bandwidth: 10000.0 \n",
      " npts: 10000\n"
     ]
    }
   ],
   "source": [
    "simulated_spectrum_analyser_if.span(100e6)\n",
    "print('setting span to 1e6: \\n bandwidth: {} \\n npts: {}'.format(simulated_spectrum_analyser_if.bandwidth(),\n",
    "                                                                  simulated_spectrum_analyser_if.npts()))"
   ]
  },
  {
   "cell_type": "markdown",
   "metadata": {},
   "source": [
    "### Real Spectrum Analyser"
   ]
  },
  {
   "cell_type": "code",
   "execution_count": null,
   "metadata": {},
   "outputs": [],
   "source": [
    "spectrum_analyser = SignalHound_USB_SA124B('spectrum_analyser_instrument')\n",
    "real_spectrum_analyser_if = USB_SA124BSpectrumAnalyserInterface('real_analyser', spectrum_analyser)\n",
    "real_spectrum_analyser_if.frequency(6e9)\n",
    "real_spectrum_analyser_if.span(10e6)\n",
    "real_spectrum_analyser_if.bandwidth(1e6)\n",
    "real_spectrum_analyser_if.avg(4)\n",
    "real_spectrum_analyser_if.mode('trace')"
   ]
  },
  {
   "cell_type": "code",
   "execution_count": null,
   "metadata": {},
   "outputs": [],
   "source": [
    "print_params(simulated_spectrum_analyser_if)"
   ]
  },
  {
   "cell_type": "markdown",
   "metadata": {},
   "source": [
    "Same checks as before:"
   ]
  },
  {
   "cell_type": "code",
   "execution_count": null,
   "metadata": {},
   "outputs": [],
   "source": [
    "real_spectrum_analyser_if.npts(5)\n",
    "print('setting npts to 5: \\n bandwidth: {}'.format(real_spectrum_analyser_if.bandwidth())"
   ]
  },
  {
   "cell_type": "code",
   "execution_count": null,
   "metadata": {},
   "outputs": [],
   "source": [
    "simulated_spectrum_analyser_if.bandwidth(1e3)\n",
    "print('setting bandwidth to 1e3: \\n npts: {}'.format(simulated_spectrum_analyser_if.npts())"
   ]
  },
  {
   "cell_type": "code",
   "execution_count": null,
   "metadata": {},
   "outputs": [],
   "source": [
    "real_spectrum_analyser_if.span(10e6)\n",
    "print('setting span to 10e6: \\n bandwidth: {} \\n npts: {}'.format(real_spectrum_analyser_if.bandwidth(),\n",
    "                                                                  real_spectrum_analyser_if.npts())"
   ]
  },
  {
   "cell_type": "markdown",
   "metadata": {},
   "source": [
    "Checking that the right mode is set (also when the 'single' and 'trace' parameters are accessed)"
   ]
  },
  {
   "cell_type": "code",
   "execution_count": null,
   "metadata": {},
   "outputs": [],
   "source": [
    "print('mode: ', real_spectrum_analyser.mode())\n",
    "print('rbw: ', real_spectrum_analyser_if._spectrum_analyser.rbw())\n",
    "print('bandwidth:', real_spectrum_analyser_if._spectrum_analyser.bandwidth())"
   ]
  },
  {
   "cell_type": "code",
   "execution_count": null,
   "metadata": {},
   "outputs": [],
   "source": [
    "real_spectrum_analyser.mode('single')\n",
    "print('mode: ', real_spectrum_analyser.mode())\n",
    "print('rbw: ', real_spectrum_analyser_if._spectrum_analyser.rbw())\n",
    "print('bandwidth:', real_spectrum_analyser_if._spectrum_analyser.bandwidth())"
   ]
  },
  {
   "cell_type": "code",
   "execution_count": null,
   "metadata": {},
   "outputs": [],
   "source": [
    "print(real_spectrum_analyser.trace())\n",
    "print('mode: ', real_spectrum_analyser.mode())\n",
    "print('rbw: ', real_spectrum_analyser_if._spectrum_analyser.rbw())\n",
    "print('bandwidth:', real_spectrum_analyser_if._spectrum_analyser.bandwidth())"
   ]
  },
  {
   "cell_type": "code",
   "execution_count": null,
   "metadata": {},
   "outputs": [],
   "source": [
    "print(real_spectrum_analyser.single())\n",
    "print('mode: ', real_spectrum_analyser.mode())\n",
    "print('rbw: ', real_spectrum_analyser_if._spectrum_analyser.rbw())\n",
    "print('bandwidth:', real_spectrum_analyser_if._spectrum_analyser.bandwidth())"
   ]
  }
 ],
 "metadata": {
  "kernelspec": {
   "display_name": "Python 3",
   "language": "python",
   "name": "python3"
  },
  "language_info": {
   "codemirror_mode": {
    "name": "ipython",
    "version": 3
   },
   "file_extension": ".py",
   "mimetype": "text/x-python",
   "name": "python",
   "nbconvert_exporter": "python",
   "pygments_lexer": "ipython3",
   "version": "3.6.7"
  }
 },
 "nbformat": 4,
 "nbformat_minor": 2
}
