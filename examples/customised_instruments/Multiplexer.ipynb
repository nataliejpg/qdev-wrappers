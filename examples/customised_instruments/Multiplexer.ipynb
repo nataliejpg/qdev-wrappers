{
 "cells": [
  {
   "cell_type": "code",
   "execution_count": 1,
   "metadata": {},
   "outputs": [
    {
     "name": "stderr",
     "output_type": "stream",
     "text": [
      "/Users/natalie/Documents/PhD/Qdev/QdevWrappers/qdev_wrappers/logger.py:16: UserWarning: The logger.py of qdev-wrappers is deprecated and will be removed soon. Please use the logger of QCoDeS instead.\n",
      "  warnings.warn('The logger.py of qdev-wrappers is deprecated and will be '\n",
      "/Users/natalie/Documents/PhD/Qdev/QdevWrappers/qdev_wrappers/station_configurator.py:21: UserWarning: ruamel yaml not found station configurator is falling back to pyyaml. It's highly recommended to install ruamel.yaml. This fixes issues with scientific notation and duplicate instruments in the YAML file\n",
      "  warnings.warn(\"ruamel yaml not found station configurator is falling back to pyyaml. \"\n"
     ]
    }
   ],
   "source": [
    "import numpy as np\n",
    "import os\n",
    "import yaml\n",
    "from pprint import pprint\n",
    "from lomentum.loader import read_element\n",
    "from lomentum.plotting import plotter\n",
    "from lomentum.loader import register_user_module\n",
    "from qdev_wrappers.pulse_building import atoms_ext \n",
    "from qcodes.instrument.base import InstrumentBase\n",
    "from qdev_wrappers.station_configurator import StationConfigurator\n",
    "from qdev_wrappers.customised_instruments.interfaces.microwave_source_interface import SimulatedMicrowaveSourceInterface, SGS100AMicrowaveSourceInterface\n",
    "from qdev_wrappers.customised_instruments.interfaces.AWG_interface import SimulatedAWGInterface, AWG5014Interface\n",
    "from qdev_wrappers.customised_instruments.composite_instruments.parametric_sequencer.parametric_sequencer import ParametricSequencer\n",
    "from qdev_wrappers.customised_instruments.composite_instruments.sidebander.sidebander import Sidebander\n",
    "register_user_module(atoms_ext)"
   ]
  },
  {
   "cell_type": "code",
   "execution_count": 2,
   "metadata": {},
   "outputs": [],
   "source": [
    "def print_params(instr):\n",
    "    print('\\n')\n",
    "    print(instr.name.upper())\n",
    "    for k, v in instr.parameters.items():\n",
    "        if k != 'IDN':\n",
    "            print(k, ': ', v())\n",
    "    for k, v in instr.submodules.items():\n",
    "        if isinstance(v, InstrumentBase):\n",
    "            print_params(v)"
   ]
  },
  {
   "cell_type": "markdown",
   "metadata": {},
   "source": [
    "## Now for some advanced stuff\n",
    " \n",
    "Lets imagine we want to use one microwave source (or heterodyne source) and two awg channels to create multiple sidebands (we'll go with 2 to keep things simple). We'd need multiple sidebanders... Let's go ahead and set these up "
   ]
  },
  {
   "cell_type": "code",
   "execution_count": 3,
   "metadata": {},
   "outputs": [],
   "source": [
    "with open('multiqubit_sidebanding_element.yaml') as f:\n",
    "    yf = yaml.safe_load(f)\n",
    "    template_element = read_element(yf)"
   ]
  },
  {
   "cell_type": "code",
   "execution_count": 4,
   "metadata": {},
   "outputs": [],
   "source": [
    "real_instruments_present = False"
   ]
  },
  {
   "cell_type": "code",
   "execution_count": 5,
   "metadata": {},
   "outputs": [],
   "source": [
    "if real_instruments_present:\n",
    "    sc = StationConfigurator()\n",
    "    awg = sc.load_instrument('AWG5014')\n",
    "    microwave_source = sc.load_instrument('SGS100A')\n",
    "    awg_if = AWG5014Interface('awg', awg)\n",
    "    carrier_if = SGS100AMicrowaveSourceInterface('source')\n",
    "else:\n",
    "    awg_if = SimulatedAWGInterface('awg')\n",
    "    carrier_if = SimulatedMicrowaveSourceInterface('source')\n",
    "awg_if.to_default()\n",
    "carrier_if.to_default()\n",
    "ps = ParametricSequencer('ps', awg_if)\n",
    "\n",
    "sidebander_0 = Sidebander('Q0', ps, carrier_if, pulse_building_prepend=True)\n",
    "sidebander_1 = Sidebander('Q1', ps, carrier_if, pulse_building_prepend=True)"
   ]
  },
  {
   "cell_type": "code",
   "execution_count": 6,
   "metadata": {},
   "outputs": [
    {
     "name": "stdout",
     "output_type": "stream",
     "text": [
      "uploading\n",
      "running\n"
     ]
    },
    {
     "name": "stderr",
     "output_type": "stream",
     "text": [
      "/Users/natalie/Documents/PhD/Qdev/lomentum/lomentum/plotting.py:252: UserWarning: Attempting to set identical bottom==top results\n",
      "in singular transformations; automatically expanding.\n",
      "bottom=800.0, top=800.0\n",
      "  ax.set_ylim([ymin-0.05*yrange, ymax+0.2*yrange])\n",
      "/Users/natalie/Documents/PhD/Qdev/lomentum/lomentum/plotting.py:252: UserWarning: Attempting to set identical bottom==top results\n",
      "in singular transformations; automatically expanding.\n",
      "bottom=0.0, top=0.0\n",
      "  ax.set_ylim([ymin-0.05*yrange, ymax+0.2*yrange])\n"
     ]
    },
    {
     "data": {
      "image/png": "[encoded data removed]",
      "text/plain": [
       "<Figure size 432x288 with 4 Axes>"
      ]
     },
     "metadata": {
      "needs_background": "light"
     },
     "output_type": "display_data"
    }
   ],
   "source": [
    "context = {**sidebander_0.generate_context(), **sidebander_1.generate_context()}\n",
    "ps.change_sequence(template_element=template_element, context=context)"
   ]
  },
  {
   "cell_type": "code",
   "execution_count": 7,
   "metadata": {},
   "outputs": [
    {
     "name": "stdout",
     "output_type": "stream",
     "text": [
      "\n",
      "\n",
      "Q0\n",
      "frequency :  6000000000.0\n",
      "carrier_power :  -10\n",
      "carrier_frequency :  6000000000.0\n",
      "sideband_frequency :  0\n",
      "I_offset :  0\n",
      "Q_offset :  0\n",
      "gain_offset :  0\n",
      "phase_offset :  0\n",
      "amplitude :  0.8\n",
      "status :  1\n",
      "\n",
      "\n",
      "Q1\n",
      "frequency :  6000000000.0\n",
      "carrier_power :  -10\n",
      "carrier_frequency :  6000000000.0\n",
      "sideband_frequency :  0\n",
      "I_offset :  0\n",
      "Q_offset :  0\n",
      "gain_offset :  0\n",
      "phase_offset :  0\n",
      "amplitude :  0.8\n",
      "status :  1\n"
     ]
    }
   ],
   "source": [
    "print_params(sidebander_0)\n",
    "print_params(sidebander_1)"
   ]
  },
  {
   "cell_type": "code",
   "execution_count": null,
   "metadata": {},
   "outputs": [],
   "source": [
    "sidebander_0.frequency()"
   ]
  }
 ],
 "metadata": {
  "kernelspec": {
   "display_name": "Python 3",
   "language": "python",
   "name": "python3"
  },
  "language_info": {
   "codemirror_mode": {
    "name": "ipython",
    "version": 3
   },
   "file_extension": ".py",
   "mimetype": "text/x-python",
   "name": "python",
   "nbconvert_exporter": "python",
   "pygments_lexer": "ipython3",
   "version": "3.6.7"
  }
 },
 "nbformat": 4,
 "nbformat_minor": 2
}
