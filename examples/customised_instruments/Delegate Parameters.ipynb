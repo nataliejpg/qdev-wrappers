{
 "cells": [
  {
   "cell_type": "code",
   "execution_count": 1,
   "metadata": {},
   "outputs": [],
   "source": [
    "import numpy as np\n",
    "np.set_printoptions(precision=2)\n",
    "from qcodes.instrument.base import Instrument\n",
    "from qcodes.instrument.parameter import ArrayParameter, MultiParameter\n",
    "from qcodes.instrument.channel import InstrumentChannel, ChannelList\n",
    "import matplotlib.pyplot as plt\n",
    "%matplotlib inline"
   ]
  },
  {
   "cell_type": "code",
   "execution_count": 2,
   "metadata": {},
   "outputs": [],
   "source": [
    "def print_params(instr):\n",
    "    for k, v in instr.parameters.items():\n",
    "        print(k, ': ', v())\n",
    "        if isinstance(v, ArrayParameter) and v.setpoints is not None:\n",
    "            print('\\t - setpoints: ', v.setpoint_names, v.setpoints)"
   ]
  },
  {
   "cell_type": "markdown",
   "metadata": {},
   "source": [
    "## Setting up some parameters to be delegates of..."
   ]
  },
  {
   "cell_type": "markdown",
   "metadata": {},
   "source": [
    "- Make an array parameter that returns an array an (n,) shape array with setpoints\n",
    "\n",
    "- Make a multi param that returns two values, one a single point and one an array with shape (3,) no setpoints\n",
    "\n",
    "- Make an instrument channel that has an ArrayParameter and a ManualParameter\n",
    "\n",
    "- Make an instrument that has a parameter, an array parameter, a multi parameter and two channels"
   ]
  },
  {
   "cell_type": "code",
   "execution_count": 3,
   "metadata": {},
   "outputs": [],
   "source": [
    "class MyArrayParam(ArrayParameter):\n",
    "    def __init__(self, name, instrument, start, stop, npts):\n",
    "        super().__init__(name=name, instrument=instrument, shape=(npts,))\n",
    "        self.set_up(start, stop, npts)\n",
    "    \n",
    "    def set_up(self, start, stop, npts):\n",
    "        self.setpoints = (tuple(np.linspace(start, stop, npts)), )\n",
    "        self.setpoint_names = ('array_param_setpoints',)\n",
    "        self.shape = (npts,)\n",
    "       \n",
    "    def get_raw(self):\n",
    "        return np.random.random(self.shape) * self.setpoints[0]\n",
    "    \n",
    "class MyMultiParam(MultiParameter):\n",
    "    def __init__(self, name, instrument):\n",
    "        super().__init__(name=name, instrument=instrument, names=('a', 'b'), shapes=((1,), (3,)))\n",
    "       \n",
    "    def get_raw(self):\n",
    "        return np.random.random(), 0.1 * np.arange(3)\n",
    "\n",
    "class MyInstrumentChannel(InstrumentChannel):\n",
    "    def __init__(self, parent, name):\n",
    "        super().__init__(parent=parent, name=name)\n",
    "        self.add_parameter(name='chan_array_param',\n",
    "                           parameter_class=MyArrayParam,\n",
    "                           start=100,\n",
    "                           stop=5000,\n",
    "                           npts=4)\n",
    "        self.add_parameter(name='chan_param',\n",
    "                           set_cmd=None,\n",
    "                           initial_value=10)\n",
    "                       \n",
    "class MyInstrument(Instrument):\n",
    "    def __init__(self, name):\n",
    "        super().__init__(name)\n",
    "        self.add_parameter(name='param',\n",
    "                           initial_value=0.5,\n",
    "                           set_cmd=None)\n",
    "        self.add_parameter(name='array_param',\n",
    "                          parameter_class=MyArrayParam,\n",
    "                          start=0,\n",
    "                          stop=10,\n",
    "                          npts=6)\n",
    "        self.add_parameter(name='multi_param',\n",
    "                          parameter_class=MyMultiParam)\n",
    "        instr_chan1 = MyInstrumentChannel(self, 'chan1')\n",
    "        instr_chan2 = MyInstrumentChannel(self, 'chan2')\n",
    "        chan_list = ChannelList(self, 'chan_list', MyInstrumentChannel, [instr_chan1, instr_chan2])\n",
    "        self.add_submodule('chan_list', chan_list)"
   ]
  },
  {
   "cell_type": "code",
   "execution_count": 4,
   "metadata": {},
   "outputs": [],
   "source": [
    "my_instr = MyInstrument('my_instr')"
   ]
  },
  {
   "cell_type": "markdown",
   "metadata": {},
   "source": [
    "### Check ArrayParam"
   ]
  },
  {
   "cell_type": "code",
   "execution_count": 5,
   "metadata": {},
   "outputs": [
    {
     "data": {
      "text/plain": [
       "Text(0, 0.5, 'array_param')"
      ]
     },
     "execution_count": 5,
     "metadata": {},
     "output_type": "execute_result"
    },
    {
     "data": {
      "image/png": "[encoded data removed]",
      "text/plain": [
       "<Figure size 432x288 with 1 Axes>"
      ]
     },
     "metadata": {
      "needs_background": "light"
     },
     "output_type": "display_data"
    }
   ],
   "source": [
    "fig = plt.figure()\n",
    "plt.plot(my_instr.array_param.setpoints[0], my_instr.array_param())\n",
    "plt.xlabel(my_instr.array_param.setpoint_names[0])\n",
    "plt.ylabel(my_instr.array_param.name)"
   ]
  },
  {
   "cell_type": "markdown",
   "metadata": {},
   "source": [
    "### Check Multi Param"
   ]
  },
  {
   "cell_type": "code",
   "execution_count": 6,
   "metadata": {},
   "outputs": [
    {
     "name": "stdout",
     "output_type": "stream",
     "text": [
      "(0.7041774363265063, array([0. , 0.1, 0.2]))\n",
      "None\n"
     ]
    }
   ],
   "source": [
    "print(my_instr.multi_param())\n",
    "print(my_instr.multi_param.setpoints)"
   ]
  },
  {
   "cell_type": "markdown",
   "metadata": {},
   "source": [
    "### Check Channels"
   ]
  },
  {
   "cell_type": "code",
   "execution_count": 7,
   "metadata": {},
   "outputs": [
    {
     "name": "stdout",
     "output_type": "stream",
     "text": [
      "chan 1\n",
      "chan_array_param :  [  52.12  311.27  183.68 1556.38]\n",
      "\t - setpoints:  ('array_param_setpoints',) ((100.0, 1733.3333333333333, 3366.6666666666665, 5000.0),)\n",
      "chan_param :  10\n",
      "chan 2\n",
      "chan_array_param :  [  98.92 1142.95  314.53  777.73]\n",
      "\t - setpoints:  ('array_param_setpoints',) ((100.0, 1733.3333333333333, 3366.6666666666665, 5000.0),)\n",
      "chan_param :  10\n"
     ]
    }
   ],
   "source": [
    "print('chan 1')\n",
    "print_params(my_instr.chan_list[0])\n",
    "print('chan 2')\n",
    "print_params(my_instr.chan_list[1])"
   ]
  },
  {
   "cell_type": "code",
   "execution_count": 8,
   "metadata": {},
   "outputs": [
    {
     "name": "stderr",
     "output_type": "stream",
     "text": [
      "/Users/Natalie/Documents/PhD/Qdev/Qcodes/qcodes/instrument/parameter.py:1218: UserWarning: MultiParameters do not support set at this time.\n",
      "  warnings.warn('MultiParameters do not support set at this time.')\n"
     ]
    },
    {
     "name": "stdout",
     "output_type": "stream",
     "text": [
      "Multi_chan_param \n",
      " ('my_instr_chan1_chan_param', 'my_instr_chan2_chan_param') (10, 10)\n"
     ]
    },
    {
     "data": {
      "image/png": "[encoded data removed]",
      "text/plain": [
       "<Figure size 432x288 with 2 Axes>"
      ]
     },
     "metadata": {
      "needs_background": "light"
     },
     "output_type": "display_data"
    }
   ],
   "source": [
    "print(my_instr.chan_list.chan_param.name, '\\n', my_instr.chan_list.chan_param.names, my_instr.chan_list.chan_param())\n",
    "fig, axes = plt.subplots(1, 2)\n",
    "for i, chan_param_val in enumerate(my_instr.chan_list.chan_array_param()):\n",
    "    axes[i].plot(my_instr.chan_list.chan_array_param.setpoints[i][0], chan_param_val)\n",
    "    axes[i].set_xlabel(my_instr.chan_list.chan_array_param.setpoint_names[i][0])\n",
    "    axes[i].set_ylabel(my_instr.chan_list.chan_array_param.full_names[i])\n",
    "plt.tight_layout()"
   ]
  },
  {
   "cell_type": "markdown",
   "metadata": {},
   "source": [
    "## Setting up some delegate parameters"
   ]
  },
  {
   "cell_type": "code",
   "execution_count": 5,
   "metadata": {},
   "outputs": [],
   "source": [
    "from qdev_wrappers.customised_instruments.parameters.delegate_parameters import DelegateParameter, DelegateArrayParameter, DelegateMultiParameter, DelegateMultiChannelParameter"
   ]
  },
  {
   "cell_type": "markdown",
   "metadata": {},
   "source": [
    "### DelegateParameter"
   ]
  },
  {
   "cell_type": "markdown",
   "metadata": {},
   "source": [
    "The most intuitive incarnation is when a source parameter is provided and the DelegateParameter merely tracks it. Here I set it up to track the 'param' parameter on my_instr."
   ]
  },
  {
   "cell_type": "code",
   "execution_count": 10,
   "metadata": {},
   "outputs": [],
   "source": [
    "delegate_param = DelegateParameter('delegate_parameter',\n",
    "                                   source=my_instr.param)"
   ]
  },
  {
   "cell_type": "code",
   "execution_count": 11,
   "metadata": {},
   "outputs": [
    {
     "name": "stdout",
     "output_type": "stream",
     "text": [
      "{'value': 0.5, 'ts': datetime.datetime(2019, 1, 10, 22, 36, 34, 292618), 'raw_value': 0.5}\n",
      "{'value': 0.5, 'ts': datetime.datetime(2019, 1, 10, 22, 36, 34, 292627), 'raw_value': 0.5}\n",
      "{'value': 2.5, 'ts': datetime.datetime(2019, 1, 10, 22, 36, 34, 293209), 'raw_value': 2.5}\n",
      "{'value': 2.5, 'ts': datetime.datetime(2019, 1, 10, 22, 36, 34, 293217), 'raw_value': 2.5}\n"
     ]
    }
   ],
   "source": [
    "my_instr.param(0.5)\n",
    "delegate_param()\n",
    "print(my_instr.param._latest)\n",
    "print(delegate_param._latest)\n",
    "delegate_param(2.5)\n",
    "print(my_instr.param._latest)\n",
    "print(delegate_param._latest)"
   ]
  },
  {
   "cell_type": "markdown",
   "metadata": {},
   "source": [
    "Getting or setting can be prohibited by means of the kwargs get_fn and set_fn."
   ]
  },
  {
   "cell_type": "code",
   "execution_count": 12,
   "metadata": {},
   "outputs": [
    {
     "name": "stdout",
     "output_type": "stream",
     "text": [
      "('Parmeter delegate_parameter not settable', 'setting delegate_parameter to 2')\n",
      "('Parmeter delegate_parameter not gettable', 'getting delegate_parameter')\n"
     ]
    }
   ],
   "source": [
    "delegate_param = DelegateParameter('delegate_parameter',\n",
    "                                   source=my_instr.param,\n",
    "                                   set_fn=False,\n",
    "                                   get_fn=False)\n",
    "try:\n",
    "    delegate_param(2)\n",
    "except RuntimeError as e:\n",
    "    print(e)\n",
    "\n",
    "try:\n",
    "    delegate_param()\n",
    "except RuntimeError as e:\n",
    "    print(e)"
   ]
  },
  {
   "cell_type": "markdown",
   "metadata": {},
   "source": [
    "If a set_fn is provided it is called before setting the source."
   ]
  },
  {
   "cell_type": "code",
   "execution_count": 13,
   "metadata": {},
   "outputs": [],
   "source": [
    "delegate_param = DelegateParameter('delegate_parameter',\n",
    "                                   source=my_instr.param,\n",
    "                                   set_fn=lambda x: print(f'setting {my_instr.param.name} to {x}'))"
   ]
  },
  {
   "cell_type": "code",
   "execution_count": 14,
   "metadata": {},
   "outputs": [
    {
     "name": "stdout",
     "output_type": "stream",
     "text": [
      "setting param to 2.5\n",
      "{'value': 2.5, 'ts': datetime.datetime(2019, 1, 10, 22, 36, 35, 338430), 'raw_value': 2.5}\n",
      "{'value': 2.5, 'ts': datetime.datetime(2019, 1, 10, 22, 36, 35, 338436), 'raw_value': 2.5}\n"
     ]
    }
   ],
   "source": [
    "delegate_param(2.5)\n",
    "print(my_instr.param._latest)\n",
    "print(delegate_param._latest)"
   ]
  },
  {
   "cell_type": "markdown",
   "metadata": {},
   "source": [
    "If a source is not provided then the default behaviour is to return a random number on calling get but this can be overwritten by setting the get_fn to True or providing a Callable, the result of which is returned."
   ]
  },
  {
   "cell_type": "code",
   "execution_count": 15,
   "metadata": {},
   "outputs": [],
   "source": [
    "delegate_param = DelegateParameter('delegate_parameter')"
   ]
  },
  {
   "cell_type": "code",
   "execution_count": 16,
   "metadata": {},
   "outputs": [
    {
     "name": "stdout",
     "output_type": "stream",
     "text": [
      "{'value': 3, 'ts': datetime.datetime(2019, 1, 10, 22, 36, 35, 962599), 'raw_value': 3}\n",
      "0.0260624755660942\n"
     ]
    }
   ],
   "source": [
    "delegate_param(3)\n",
    "print(delegate_param._latest)\n",
    "print(delegate_param())"
   ]
  },
  {
   "cell_type": "code",
   "execution_count": 17,
   "metadata": {},
   "outputs": [],
   "source": [
    "delegate_param = DelegateParameter('delegate_parameter',\n",
    "                                   get_fn=True)"
   ]
  },
  {
   "cell_type": "code",
   "execution_count": 18,
   "metadata": {},
   "outputs": [
    {
     "name": "stdout",
     "output_type": "stream",
     "text": [
      "{'value': 3, 'ts': datetime.datetime(2019, 1, 10, 22, 36, 36, 380614), 'raw_value': 3}\n",
      "3\n"
     ]
    }
   ],
   "source": [
    "delegate_param(3)\n",
    "print(delegate_param._latest)\n",
    "print(delegate_param())"
   ]
  },
  {
   "cell_type": "code",
   "execution_count": 19,
   "metadata": {},
   "outputs": [],
   "source": [
    "delegate_param = DelegateParameter('delegate_parameter',\n",
    "                                   get_fn=lambda: 100)"
   ]
  },
  {
   "cell_type": "code",
   "execution_count": 20,
   "metadata": {},
   "outputs": [
    {
     "name": "stdout",
     "output_type": "stream",
     "text": [
      "{'value': 3, 'ts': datetime.datetime(2019, 1, 10, 22, 36, 36, 778038), 'raw_value': 3}\n",
      "100\n"
     ]
    }
   ],
   "source": [
    "delegate_param(3)\n",
    "print(delegate_param._latest)\n",
    "print(delegate_param())"
   ]
  },
  {
   "cell_type": "markdown",
   "metadata": {},
   "source": [
    "### DelegateArrayParameter"
   ]
  },
  {
   "cell_type": "markdown",
   "metadata": {},
   "source": [
    "Since ArrayParameters are not settable this one is a bit simpler and there is no set_fn kwarg. If a source is provided then on getting the parameter the metadata is copied (label, unit, setpoints, setpoint_names, setpoint_labels, setpoint_units)"
   ]
  },
  {
   "cell_type": "code",
   "execution_count": 21,
   "metadata": {},
   "outputs": [],
   "source": [
    "delegate_array_param = DelegateArrayParameter('delegate_array_parameter',\n",
    "                                              source=my_instr.array_param)"
   ]
  },
  {
   "cell_type": "code",
   "execution_count": 22,
   "metadata": {},
   "outputs": [
    {
     "name": "stdout",
     "output_type": "stream",
     "text": [
      "[0.   0.57 2.52 1.61 3.01 0.91]\n",
      "[0.   0.57 2.52 1.61 3.01 0.91]\n",
      "('array_param_setpoints',)\n",
      "('array_param_setpoints',)\n"
     ]
    }
   ],
   "source": [
    "delegate_array_param()\n",
    "print(delegate_array_param.get_latest())\n",
    "print(my_instr.array_param.get_latest())\n",
    "print(delegate_array_param.setpoint_names)\n",
    "print(my_instr.array_param.setpoint_names)"
   ]
  },
  {
   "cell_type": "markdown",
   "metadata": {},
   "source": [
    "As before getting can be prohibited by setting the get_fn to False"
   ]
  },
  {
   "cell_type": "code",
   "execution_count": 23,
   "metadata": {},
   "outputs": [
    {
     "name": "stdout",
     "output_type": "stream",
     "text": [
      "('Parmeter delegate_array_parameter not gettable', 'getting delegate_array_parameter')\n"
     ]
    }
   ],
   "source": [
    "delegate_array_param = DelegateArrayParameter('delegate_array_parameter',\n",
    "                                              source=my_instr.array_param,\n",
    "                                              get_fn=False)\n",
    "try:\n",
    "    delegate_array_param()\n",
    "except RuntimeError as e:\n",
    "    print(e)"
   ]
  },
  {
   "cell_type": "markdown",
   "metadata": {},
   "source": [
    "If no source is provided then the user must take care of setpoints, labels, shape etc and by default a random array of the relevant shape is returned."
   ]
  },
  {
   "cell_type": "code",
   "execution_count": 24,
   "metadata": {},
   "outputs": [],
   "source": [
    "delegate_array_param = DelegateArrayParameter('delegate_array_parameter',\n",
    "                                              shape=(15,))"
   ]
  },
  {
   "cell_type": "code",
   "execution_count": 25,
   "metadata": {},
   "outputs": [
    {
     "data": {
      "text/plain": [
       "array([0.53, 0.95, 0.75, 0.78, 0.89, 0.77, 0.12, 0.93, 0.23, 0.34, 0.37,\n",
       "       0.65, 0.32, 0.9 , 0.78])"
      ]
     },
     "execution_count": 25,
     "metadata": {},
     "output_type": "execute_result"
    }
   ],
   "source": [
    "delegate_array_param()"
   ]
  },
  {
   "cell_type": "markdown",
   "metadata": {},
   "source": [
    "A Callable get_fn is available as before (slightly less trivial as it has to match the shape!). It can be provided via the init or set at any time."
   ]
  },
  {
   "cell_type": "code",
   "execution_count": 26,
   "metadata": {},
   "outputs": [
    {
     "name": "stdout",
     "output_type": "stream",
     "text": [
      "[0 1 2 3 4 5 6 7 8 9]\n",
      "[0 1 2 3 4]\n"
     ]
    }
   ],
   "source": [
    "delegate_array_param = DelegateArrayParameter('delegate_array_parameter',\n",
    "                                              shape=(10,),\n",
    "                                              get_fn=lambda: np.arange(10))\n",
    "print(delegate_array_param())\n",
    "delegate_array_param.shape = (5,)\n",
    "delegate_array_param.get_fn = lambda: np.arange(5)\n",
    "print(delegate_array_param())"
   ]
  },
  {
   "cell_type": "markdown",
   "metadata": {},
   "source": [
    "### DelegateMultiParameter"
   ]
  },
  {
   "cell_type": "markdown",
   "metadata": {},
   "source": [
    "Similarly the DelegateMultiParameter can interface with a MultiParameter or used to simulate one. Setting is not supported."
   ]
  },
  {
   "cell_type": "code",
   "execution_count": 6,
   "metadata": {},
   "outputs": [],
   "source": [
    "delegate_multi_param = DelegateMultiParameter('delegate_multi_parameter',\n",
    "                                              source=my_instr.multi_param)"
   ]
  },
  {
   "cell_type": "code",
   "execution_count": 28,
   "metadata": {},
   "outputs": [
    {
     "name": "stdout",
     "output_type": "stream",
     "text": [
      "(0.5568193080046177, array([0. , 0.1, 0.2]))\n",
      "(0.5568193080046177, array([0. , 0.1, 0.2]))\n"
     ]
    }
   ],
   "source": [
    "delegate_multi_param()\n",
    "print(delegate_multi_param.get_latest())\n",
    "print(my_instr.multi_param.get_latest())"
   ]
  },
  {
   "cell_type": "markdown",
   "metadata": {},
   "source": [
    "Get can be prohibited as before (I won't demo this again, take my word for it). If no source is provided the options agian the choice is between generating random arrays that match the shape or providing a function to generate results:"
   ]
  },
  {
   "cell_type": "code",
   "execution_count": 29,
   "metadata": {},
   "outputs": [],
   "source": [
    "delegate_multi_param = DelegateMultiParameter('delegate_multi_parameter',\n",
    "                                              shapes=((15,), (1,)))"
   ]
  },
  {
   "cell_type": "code",
   "execution_count": 30,
   "metadata": {},
   "outputs": [
    {
     "data": {
      "text/plain": [
       "(array([0.56, 0.03, 0.74, 0.27, 0.43, 0.03, 0.53, 0.56, 0.94, 0.72, 0.76,\n",
       "        0.56, 0.61, 0.49, 0.9 ]), array([0.46]))"
      ]
     },
     "execution_count": 30,
     "metadata": {},
     "output_type": "execute_result"
    }
   ],
   "source": [
    "delegate_multi_param()"
   ]
  },
  {
   "cell_type": "code",
   "execution_count": 31,
   "metadata": {},
   "outputs": [],
   "source": [
    "delegate_multi_param = DelegateMultiParameter('delegate_multi_parameter',\n",
    "                                              shapes=((15,), (1,)),\n",
    "                                              get_fn = lambda: tuple((np.arange(15), np.array([12]))))"
   ]
  },
  {
   "cell_type": "code",
   "execution_count": 32,
   "metadata": {},
   "outputs": [
    {
     "data": {
      "text/plain": [
       "(array([ 0,  1,  2,  3,  4,  5,  6,  7,  8,  9, 10, 11, 12, 13, 14]),\n",
       " array([12]))"
      ]
     },
     "execution_count": 32,
     "metadata": {},
     "output_type": "execute_result"
    }
   ],
   "source": [
    "delegate_multi_param()"
   ]
  },
  {
   "cell_type": "markdown",
   "metadata": {},
   "source": [
    "### DelegateMultiChannelParameter"
   ]
  },
  {
   "cell_type": "markdown",
   "metadata": {},
   "source": [
    "A DelegateMultiChannelParameter can be used to track a MultiChannelParameter. If you really wanted to simulate this you should also simulate the underlying channels and their parameters so there is no 'simulation' for this parameter, you have to give it a channelist and paramname which are the equivalent of giving a source to another parameter.  "
   ]
  },
  {
   "cell_type": "code",
   "execution_count": 7,
   "metadata": {},
   "outputs": [],
   "source": [
    "delegate_multi_chan_param = DelegateMultiChannelParameter('delegate_multi_chan_parameter',\n",
    "                                                          channellist=my_instr.chan_list,\n",
    "                                                          paramname='chan_param')"
   ]
  },
  {
   "cell_type": "code",
   "execution_count": 12,
   "metadata": {},
   "outputs": [
    {
     "name": "stdout",
     "output_type": "stream",
     "text": [
      "(10, 10)\n",
      "(10, 10)\n"
     ]
    }
   ],
   "source": [
    "print(delegate_multi_chan_param())\n",
    "print(my_instr.chan_list.chan_param())"
   ]
  },
  {
   "cell_type": "markdown",
   "metadata": {},
   "source": [
    "For a multi channel array parameter (nb each call generates a new random list so it's still working!)."
   ]
  },
  {
   "cell_type": "code",
   "execution_count": 13,
   "metadata": {},
   "outputs": [],
   "source": [
    "delegate_multi_chan_param = DelegateMultiChannelParameter('delegate_multi_chan_parameter',\n",
    "                                                          channellist=my_instr.chan_list,\n",
    "                                                          paramname='chan_array_param')"
   ]
  },
  {
   "cell_type": "code",
   "execution_count": 14,
   "metadata": {},
   "outputs": [
    {
     "name": "stdout",
     "output_type": "stream",
     "text": [
      "(array([  77.95, 1147.22, 1490.28, 4363.92]), array([  38.05, 1432.45, 2683.64, 4388.55]))\n",
      "(array([  18.53,  350.65,  264.58, 2177.58]), array([  78.37, 1476.51, 2877.52, 3198.63]))\n"
     ]
    }
   ],
   "source": [
    "print(delegate_multi_chan_param())\n",
    "print(my_instr.chan_list.chan_array_param())"
   ]
  }
 ],
 "metadata": {
  "kernelspec": {
   "display_name": "Python 3",
   "language": "python",
   "name": "python3"
  },
  "language_info": {
   "codemirror_mode": {
    "name": "ipython",
    "version": 3
   },
   "file_extension": ".py",
   "mimetype": "text/x-python",
   "name": "python",
   "nbconvert_exporter": "python",
   "pygments_lexer": "ipython3",
   "version": "3.6.7"
  }
 },
 "nbformat": 4,
 "nbformat_minor": 2
}
