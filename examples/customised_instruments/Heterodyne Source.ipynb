{
 "cells": [
  {
   "cell_type": "markdown",
   "metadata": {},
   "source": [
    "# Heterodyne Source\n",
    "\n",
    "This instrument is meant to represent a two tone heterodyne source comprised either of two microwave sources or one with dual output (these should be input via the microwave source interface driver which means they can of course be simulated). It can also be simulated with no underlying microwave sources. Since I trust that the microwave source interface works I use only simulated microwave sources and a simulated heterodyne source.<br><br>\n",
    "Note that for a single source heterodyne source the microwave source must have both the dual utput option and the IQ option."
   ]
  },
  {
   "cell_type": "code",
   "execution_count": 1,
   "metadata": {},
   "outputs": [
    {
     "name": "stderr",
     "output_type": "stream",
     "text": [
      "/Users/natalie/Documents/PhD/Qdev/QdevWrappers/qdev_wrappers/logger.py:16: UserWarning: The logger.py of qdev-wrappers is deprecated and will be removed soon. Please use the logger of QCoDeS instead.\n",
      "  warnings.warn('The logger.py of qdev-wrappers is deprecated and will be '\n"
     ]
    }
   ],
   "source": [
    "from qcodes import Instrument\n",
    "from qdev_wrappers.customised_instruments.interfaces.microwave_source_interface import SimulatedMicrowaveSourceInterface\n",
    "from qdev_wrappers.customised_instruments.composite_instruments.heterodyne_source.heterodyne_source import SimulatedHeterodyneSource, OneSourceHeterodyneSource, TwoSourceHeterodyneSource"
   ]
  },
  {
   "cell_type": "code",
   "execution_count": 2,
   "metadata": {},
   "outputs": [],
   "source": [
    "def print_params(*instruments):\n",
    "    for instr in instruments:\n",
    "        if instr is not None:\n",
    "            print(instr.name.upper())\n",
    "            for k, v in instr.parameters.items():\n",
    "                if k != 'IDN':\n",
    "                    print(k, ': ', v())\n",
    "            print('\\n')"
   ]
  },
  {
   "cell_type": "code",
   "execution_count": 3,
   "metadata": {},
   "outputs": [],
   "source": [
    "# choose from 0 (simulates heterodyne_source), 1 (uses one simulated microwave source),\n",
    "#             2 (uses two simulated microwave sources)\n",
    "num_sources = 2"
   ]
  },
  {
   "cell_type": "code",
   "execution_count": 5,
   "metadata": {},
   "outputs": [
    {
     "name": "stdout",
     "output_type": "stream",
     "text": [
      "HETERODYNE_SOURCE\n",
      "frequency :  7000000000.0\n",
      "power :  -10\n",
      "demodulation_frequency :  0.0\n",
      "localos_power :  -10\n",
      "status :  0\n",
      "mode :  basic\n",
      "\n",
      "\n",
      "CARRIER_MICROWAVE_SOURCE\n",
      "frequency :  7000000000.0\n",
      "power :  -10\n",
      "status :  0\n",
      "pulsemod_state :  0\n",
      "IQ_state :  0\n",
      "dual_output_state :  0\n",
      "\n",
      "\n",
      "LOCALOS_MICROWAVE_SOURCE\n",
      "frequency :  7000000000.0\n",
      "power :  -10\n",
      "status :  0\n",
      "pulsemod_state :  0\n",
      "IQ_state :  0\n",
      "dual_output_state :  0\n",
      "\n",
      "\n"
     ]
    }
   ],
   "source": [
    "try:\n",
    "    Instrument.remove_instance(heterodyne_source)\n",
    "    Instrument.remove_instance(carrier_source_if)\n",
    "    Instrument.remove_instance(localos_source_if)\n",
    "except (NameError, TypeError):\n",
    "    pass\n",
    "carrier_source_if = None\n",
    "localos_source_if = None\n",
    "if num_sources == 0:\n",
    "    heterodyne_source = SimulatedHeterodyneSource('heterodyne_source')\n",
    "elif num_sources == 1:\n",
    "    carrier_source_if = SimulatedMicrowaveSourceInterface('microwave_source', IQ=True, dual_output=True)\n",
    "    heterodyne_source = OneSourceHeterodyneSource('heterodyne_source', carrier_source_if, localos_power=10)\n",
    "elif num_sources == 2:\n",
    "    carrier_source_if = SimulatedMicrowaveSourceInterface('carrier_microwave_source', IQ=False)\n",
    "    localos_source_if = SimulatedMicrowaveSourceInterface('localos_microwave_source', IQ=False)\n",
    "    heterodyne_source = TwoSourceHeterodyneSource('heterodyne_source', carrier_source_if, localos_source_if)\n",
    "\n",
    "print_params(heterodyne_source, carrier_source_if, localos_source_if)"
   ]
  },
  {
   "cell_type": "markdown",
   "metadata": {},
   "source": [
    "Have a play with changing the parameters. Especially note the modes available (which depend on what you are using to make up your heterodyne source):\n",
    "- basic: IQ state off, pulsemod state off, second output (localos or dual output state) off\n",
    "- sidebanded: IQ state on, pulsemod state off, second output matching main status\n",
    "- modulated: IQ state off, pulsemod state on, second output matching main status\n",
    "- sidebanded_modulated: IQ state on, pulsemod state on, , second output matching main status\n",
    "Also note that demodulation_frequency is not available for a single source heterodyne source and that the localos_power for this implementation is fixed by the dual output power and cannot be set"
   ]
  },
  {
   "cell_type": "code",
   "execution_count": 6,
   "metadata": {},
   "outputs": [
    {
     "name": "stdout",
     "output_type": "stream",
     "text": [
      "ERROR: (\"'sidebanded_modulated' is not in {'modulated', 'basic'}; Parameter: heterodyne_source.mode\", 'setting heterodyne_source_mode to sidebanded_modulated') \n",
      "\n",
      "HETERODYNE_SOURCE\n",
      "frequency :  6000000000.0\n",
      "power :  -20\n",
      "demodulation_frequency :  15000000.0\n",
      "localos_power :  15\n",
      "status :  1\n",
      "mode :  basic\n",
      "\n",
      "\n",
      "CARRIER_MICROWAVE_SOURCE\n",
      "frequency :  6000000000.0\n",
      "power :  -20\n",
      "status :  1\n",
      "pulsemod_state :  0\n",
      "IQ_state :  0\n",
      "dual_output_state :  0\n",
      "\n",
      "\n",
      "LOCALOS_MICROWAVE_SOURCE\n",
      "frequency :  6015000000.0\n",
      "power :  15\n",
      "status :  0\n",
      "pulsemod_state :  0\n",
      "IQ_state :  0\n",
      "dual_output_state :  0\n",
      "\n",
      "\n"
     ]
    }
   ],
   "source": [
    "try:\n",
    "    heterodyne_source.frequency(6e9)\n",
    "    heterodyne_source.power(-20)\n",
    "    heterodyne_source.demodulation_frequency(15e6)\n",
    "    heterodyne_source.localos_power(15)\n",
    "    heterodyne_source.status(1)\n",
    "    heterodyne_source.mode('sidebanded_modulated')\n",
    "except Exception as e:\n",
    "    print('ERROR: {} \\n'.format(e))\n",
    "\n",
    "print_params(heterodyne_source, carrier_source_if, localos_source_if)"
   ]
  },
  {
   "cell_type": "code",
   "execution_count": null,
   "metadata": {},
   "outputs": [],
   "source": []
  },
  {
   "cell_type": "code",
   "execution_count": null,
   "metadata": {},
   "outputs": [],
   "source": []
  }
 ],
 "metadata": {
  "kernelspec": {
   "display_name": "Python 3",
   "language": "python",
   "name": "python3"
  },
  "language_info": {
   "codemirror_mode": {
    "name": "ipython",
    "version": 3
   },
   "file_extension": ".py",
   "mimetype": "text/x-python",
   "name": "python",
   "nbconvert_exporter": "python",
   "pygments_lexer": "ipython3",
   "version": "3.6.7"
  }
 },
 "nbformat": 4,
 "nbformat_minor": 2
}
