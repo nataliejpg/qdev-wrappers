{
 "cells": [
  {
   "cell_type": "code",
   "execution_count": 1,
   "metadata": {},
   "outputs": [],
   "source": [
    "from qdev_wrappers.customised_instruments.composite_instruments.heterodyne_source import SimulatedHeterodyneSource, OneSourceHeterodyneSource, TwoSourceHeterodyneSource\n",
    "from qdev_wrappers.customised_instruments.interfaces.microwave_source_interface import SimulatedMicrowaveSourceInterface"
   ]
  },
  {
   "cell_type": "code",
   "execution_count": 2,
   "metadata": {},
   "outputs": [],
   "source": [
    "def print_params(instr):\n",
    "    print(instr.name.upper())\n",
    "    for k, v in instr.parameters.items():\n",
    "        if k != 'IDN':\n",
    "            print(k, ': ', v())\n",
    "    print('\\n')"
   ]
  },
  {
   "cell_type": "markdown",
   "metadata": {},
   "source": [
    "### Simulated heterodyne source"
   ]
  },
  {
   "cell_type": "code",
   "execution_count": 3,
   "metadata": {},
   "outputs": [],
   "source": [
    "simulated_source = SimulatedHeterodyneSource('heterodyne_source')"
   ]
  },
  {
   "cell_type": "code",
   "execution_count": 4,
   "metadata": {},
   "outputs": [
    {
     "name": "stdout",
     "output_type": "stream",
     "text": [
      "HETERODYNE_SOURCE\n",
      "frequency :  6000000000.0\n",
      "power :  -10\n",
      "demodulation_frequency :  15000000000.0\n",
      "localos_power :  15\n",
      "status :  1\n",
      "mode :  basic\n",
      "\n",
      "\n"
     ]
    }
   ],
   "source": [
    "simulated_source.frequency(6e9)\n",
    "simulated_source.power(-10)\n",
    "simulated_source.demodulation_frequency(15e9)\n",
    "simulated_source.localos_power(15)\n",
    "simulated_source.status(1)\n",
    "simulated_source.mode('basic')\n",
    "print_params(simulated_source)"
   ]
  },
  {
   "cell_type": "markdown",
   "metadata": {},
   "source": [
    "### Single source heterodyne source"
   ]
  },
  {
   "cell_type": "markdown",
   "metadata": {},
   "source": [
    "This should behave the same as the simulated heterodyne source, the only difference being that it is based on using one microwave source (which we simulate here). As a result the localos power is not settable but can be recorded at intiialisation as it is a harware parameter and the demodulation_frequency will likewise be fixed to zero."
   ]
  },
  {
   "cell_type": "code",
   "execution_count": 5,
   "metadata": {},
   "outputs": [
    {
     "ename": "TypeError",
     "evalue": "(\"int() argument must be a string, a bytes-like object or a number, not 'NoneType'\", 'getting microwave_source_pulsemod_state')",
     "output_type": "error",
     "traceback": [
      "\u001b[0;31m---------------------------------------------------------------------------\u001b[0m",
      "\u001b[0;31mTypeError\u001b[0m                                 Traceback (most recent call last)",
      "\u001b[0;32m<ipython-input-5-79cfdbd13dc4>\u001b[0m in \u001b[0;36m<module>\u001b[0;34m\u001b[0m\n\u001b[1;32m      1\u001b[0m \u001b[0mmicrowave_source\u001b[0m \u001b[0;34m=\u001b[0m \u001b[0mSimulatedMicrowaveSourceInterface\u001b[0m\u001b[0;34m(\u001b[0m\u001b[0;34m'microwave_source'\u001b[0m\u001b[0;34m)\u001b[0m\u001b[0;34m\u001b[0m\u001b[0;34m\u001b[0m\u001b[0m\n\u001b[0;32m----> 2\u001b[0;31m \u001b[0msimulated_single_het_source\u001b[0m \u001b[0;34m=\u001b[0m \u001b[0mOneSourceHeterodyneSource\u001b[0m\u001b[0;34m(\u001b[0m\u001b[0;34m'heterodyne_source_single'\u001b[0m\u001b[0;34m,\u001b[0m \u001b[0mmicrowave_source\u001b[0m\u001b[0;34m,\u001b[0m \u001b[0mlocalos_power\u001b[0m\u001b[0;34m=\u001b[0m\u001b[0;34m-\u001b[0m\u001b[0;36m20\u001b[0m\u001b[0;34m)\u001b[0m\u001b[0;34m\u001b[0m\u001b[0;34m\u001b[0m\u001b[0m\n\u001b[0m",
      "\u001b[0;32m~/Documents/PhD/Qdev/QdevWrappers/qdev_wrappers/customised_instruments/composite_instruments/heterodyne_source.py\u001b[0m in \u001b[0;36m__init__\u001b[0;34m(self, name, microwave_source_if, localos_power)\u001b[0m\n\u001b[1;32m     72\u001b[0m         self.mode.__doc__ = os.linesep.join(\n\u001b[1;32m     73\u001b[0m             (mode_docstring, '', self.mode.__doc__))\n\u001b[0;32m---> 74\u001b[0;31m         if (microwave_source_if.pulsemod_state() and\n\u001b[0m\u001b[1;32m     75\u001b[0m                 microwave_source_if.IQ_state()):\n\u001b[1;32m     76\u001b[0m             \u001b[0mself\u001b[0m\u001b[0;34m.\u001b[0m\u001b[0mmode\u001b[0m\u001b[0;34m.\u001b[0m\u001b[0m_save_val\u001b[0m\u001b[0;34m(\u001b[0m\u001b[0;34m'sideband_modulated'\u001b[0m\u001b[0;34m)\u001b[0m\u001b[0;34m\u001b[0m\u001b[0;34m\u001b[0m\u001b[0m\n",
      "\u001b[0;32m~/Documents/PhD/Qdev/Qcodes/qcodes/instrument/parameter.py\u001b[0m in \u001b[0;36m__call__\u001b[0;34m(self, *args, **kwargs)\u001b[0m\n\u001b[1;32m    281\u001b[0m         \u001b[0;32mif\u001b[0m \u001b[0mlen\u001b[0m\u001b[0;34m(\u001b[0m\u001b[0margs\u001b[0m\u001b[0;34m)\u001b[0m \u001b[0;34m==\u001b[0m \u001b[0;36m0\u001b[0m\u001b[0;34m:\u001b[0m\u001b[0;34m\u001b[0m\u001b[0;34m\u001b[0m\u001b[0m\n\u001b[1;32m    282\u001b[0m             \u001b[0;32mif\u001b[0m \u001b[0mhasattr\u001b[0m\u001b[0;34m(\u001b[0m\u001b[0mself\u001b[0m\u001b[0;34m,\u001b[0m \u001b[0;34m'get'\u001b[0m\u001b[0;34m)\u001b[0m\u001b[0;34m:\u001b[0m\u001b[0;34m\u001b[0m\u001b[0;34m\u001b[0m\u001b[0m\n\u001b[0;32m--> 283\u001b[0;31m                 \u001b[0;32mreturn\u001b[0m \u001b[0mself\u001b[0m\u001b[0;34m.\u001b[0m\u001b[0mget\u001b[0m\u001b[0;34m(\u001b[0m\u001b[0;34m)\u001b[0m\u001b[0;34m\u001b[0m\u001b[0;34m\u001b[0m\u001b[0m\n\u001b[0m\u001b[1;32m    284\u001b[0m             \u001b[0;32melse\u001b[0m\u001b[0;34m:\u001b[0m\u001b[0;34m\u001b[0m\u001b[0;34m\u001b[0m\u001b[0m\n\u001b[1;32m    285\u001b[0m                 raise NotImplementedError('no get cmd found in' +\n",
      "\u001b[0;32m~/Documents/PhD/Qdev/Qcodes/qcodes/instrument/parameter.py\u001b[0m in \u001b[0;36mget_wrapper\u001b[0;34m(*args, **kwargs)\u001b[0m\n\u001b[1;32m    404\u001b[0m             \u001b[0;32mexcept\u001b[0m \u001b[0mException\u001b[0m \u001b[0;32mas\u001b[0m \u001b[0me\u001b[0m\u001b[0;34m:\u001b[0m\u001b[0;34m\u001b[0m\u001b[0;34m\u001b[0m\u001b[0m\n\u001b[1;32m    405\u001b[0m                 \u001b[0me\u001b[0m\u001b[0;34m.\u001b[0m\u001b[0margs\u001b[0m \u001b[0;34m=\u001b[0m \u001b[0me\u001b[0m\u001b[0;34m.\u001b[0m\u001b[0margs\u001b[0m \u001b[0;34m+\u001b[0m \u001b[0;34m(\u001b[0m\u001b[0;34m'getting {}'\u001b[0m\u001b[0;34m.\u001b[0m\u001b[0mformat\u001b[0m\u001b[0;34m(\u001b[0m\u001b[0mself\u001b[0m\u001b[0;34m)\u001b[0m\u001b[0;34m,\u001b[0m\u001b[0;34m)\u001b[0m\u001b[0;34m\u001b[0m\u001b[0;34m\u001b[0m\u001b[0m\n\u001b[0;32m--> 406\u001b[0;31m                 \u001b[0;32mraise\u001b[0m \u001b[0me\u001b[0m\u001b[0;34m\u001b[0m\u001b[0;34m\u001b[0m\u001b[0m\n\u001b[0m\u001b[1;32m    407\u001b[0m \u001b[0;34m\u001b[0m\u001b[0m\n\u001b[1;32m    408\u001b[0m         \u001b[0;32mreturn\u001b[0m \u001b[0mget_wrapper\u001b[0m\u001b[0;34m\u001b[0m\u001b[0;34m\u001b[0m\u001b[0m\n",
      "\u001b[0;32m~/Documents/PhD/Qdev/Qcodes/qcodes/instrument/parameter.py\u001b[0m in \u001b[0;36mget_wrapper\u001b[0;34m(*args, **kwargs)\u001b[0m\n\u001b[1;32m    397\u001b[0m                     \u001b[0;32melse\u001b[0m\u001b[0;34m:\u001b[0m\u001b[0;34m\u001b[0m\u001b[0;34m\u001b[0m\u001b[0m\n\u001b[1;32m    398\u001b[0m                         \u001b[0;32mtry\u001b[0m\u001b[0;34m:\u001b[0m\u001b[0;34m\u001b[0m\u001b[0;34m\u001b[0m\u001b[0m\n\u001b[0;32m--> 399\u001b[0;31m                             \u001b[0mvalue\u001b[0m \u001b[0;34m=\u001b[0m \u001b[0mself\u001b[0m\u001b[0;34m.\u001b[0m\u001b[0minverse_val_mapping\u001b[0m\u001b[0;34m[\u001b[0m\u001b[0mint\u001b[0m\u001b[0;34m(\u001b[0m\u001b[0mvalue\u001b[0m\u001b[0;34m)\u001b[0m\u001b[0;34m]\u001b[0m\u001b[0;34m\u001b[0m\u001b[0;34m\u001b[0m\u001b[0m\n\u001b[0m\u001b[1;32m    400\u001b[0m                         \u001b[0;32mexcept\u001b[0m \u001b[0;34m(\u001b[0m\u001b[0mValueError\u001b[0m\u001b[0;34m,\u001b[0m \u001b[0mKeyError\u001b[0m\u001b[0;34m)\u001b[0m\u001b[0;34m:\u001b[0m\u001b[0;34m\u001b[0m\u001b[0;34m\u001b[0m\u001b[0m\n\u001b[1;32m    401\u001b[0m                             \u001b[0;32mraise\u001b[0m \u001b[0mKeyError\u001b[0m\u001b[0;34m(\u001b[0m\u001b[0;34m\"'{}' not in val_mapping\"\u001b[0m\u001b[0;34m.\u001b[0m\u001b[0mformat\u001b[0m\u001b[0;34m(\u001b[0m\u001b[0mvalue\u001b[0m\u001b[0;34m)\u001b[0m\u001b[0;34m)\u001b[0m\u001b[0;34m\u001b[0m\u001b[0;34m\u001b[0m\u001b[0m\n",
      "\u001b[0;31mTypeError\u001b[0m: (\"int() argument must be a string, a bytes-like object or a number, not 'NoneType'\", 'getting microwave_source_pulsemod_state')"
     ]
    }
   ],
   "source": [
    "microwave_source = SimulatedMicrowaveSourceInterface('microwave_source')\n",
    "simulated_single_het_source = OneSourceHeterodyneSource('heterodyne_source_single', microwave_source, localos_power=-20)"
   ]
  },
  {
   "cell_type": "code",
   "execution_count": 6,
   "metadata": {},
   "outputs": [
    {
     "name": "stdout",
     "output_type": "stream",
     "text": [
      "HETERODYNE_SOURCE_SINGLE\n",
      "frequency :  6000000000.0\n",
      "power :  -15\n",
      "demodulation_frequency :  0\n",
      "localos_power :  -20\n",
      "status :  True\n",
      "mode :  sidebanded\n",
      "\n",
      "\n",
      "MICROWAVE_SOURCE\n",
      "frequency :  6000000000.0\n",
      "power :  -15\n",
      "status :  True\n",
      "pulsemod_state :  False\n",
      "IQ_state :  True\n",
      "\n",
      "\n"
     ]
    }
   ],
   "source": [
    "simulated_single_het_source.frequency(6e9)\n",
    "simulated_single_het_source.power(-15)\n",
    "simulated_single_het_source.status(1)\n",
    "simulated_single_het_source.mode('sidebanded')\n",
    "print_params(simulated_single_het_source)\n",
    "print_params(microwave_source)"
   ]
  },
  {
   "cell_type": "markdown",
   "metadata": {},
   "source": [
    "The mode parameter controls the IQ state and pulsemod state of the cavity source. It has three options:<br>\n",
    "- basic: IQ state off, pulsemod state off\n",
    "- sidebanded: IQ state on, pulsemod state off\n",
    "- sidebanded_modulated: IQ state on, pulsemod state on"
   ]
  },
  {
   "cell_type": "code",
   "execution_count": 7,
   "metadata": {},
   "outputs": [
    {
     "name": "stdout",
     "output_type": "stream",
     "text": [
      "False\n",
      "False\n"
     ]
    }
   ],
   "source": [
    "simulated_single_het_source.mode('basic')\n",
    "print(microwave_source.IQ_state())\n",
    "print(microwave_source.pulsemod_state())"
   ]
  },
  {
   "cell_type": "code",
   "execution_count": 8,
   "metadata": {},
   "outputs": [
    {
     "name": "stdout",
     "output_type": "stream",
     "text": [
      "True\n",
      "False\n"
     ]
    }
   ],
   "source": [
    "simulated_single_het_source.mode('sidebanded')\n",
    "print(microwave_source.IQ_state())\n",
    "print(microwave_source.pulsemod_state())"
   ]
  },
  {
   "cell_type": "code",
   "execution_count": 9,
   "metadata": {},
   "outputs": [
    {
     "name": "stdout",
     "output_type": "stream",
     "text": [
      "True\n",
      "True\n"
     ]
    }
   ],
   "source": [
    "simulated_single_het_source.mode('sidebanded_modulated')\n",
    "print(microwave_source.IQ_state())\n",
    "print(microwave_source.pulsemod_state())"
   ]
  },
  {
   "cell_type": "markdown",
   "metadata": {},
   "source": [
    "### Two source heterodyne source"
   ]
  },
  {
   "cell_type": "markdown",
   "metadata": {},
   "source": [
    "Should have same functionality except that the second tone is provided by a separate microwave source so the demodulation frequency and power can be set dynamically. The 'basic' mode will also turn off the localos source status whereas for the other two it will match the value of the status parameter."
   ]
  },
  {
   "cell_type": "code",
   "execution_count": 10,
   "metadata": {},
   "outputs": [],
   "source": [
    "carrier_source = SimulatedMicrowaveSourceInterface('carrier_microwave_source')\n",
    "localos_source = SimulatedMicrowaveSourceInterface('localos_microwave_source', IQ_option=False)\n",
    "simulated_two_het_source = TwoSourceHeterodyneSource('heterodyne_source_two', carrier_source, localos_source)"
   ]
  },
  {
   "cell_type": "code",
   "execution_count": 11,
   "metadata": {},
   "outputs": [
    {
     "name": "stdout",
     "output_type": "stream",
     "text": [
      "HETERODYNE_SOURCE_TWO\n",
      "frequency :  6000000000.0\n",
      "power :  -15\n",
      "demodulation_frequency :  20000000.0\n",
      "localos_power :  30\n",
      "status :  True\n",
      "mode :  sidebanded_modulated\n",
      "\n",
      "\n",
      "CARRIER_MICROWAVE_SOURCE\n",
      "frequency :  6000000000.0\n",
      "power :  -15\n",
      "status :  True\n",
      "pulsemod_state :  True\n",
      "IQ_state :  True\n",
      "\n",
      "\n",
      "LOCALOS_MICROWAVE_SOURCE\n",
      "frequency :  6020000000.0\n",
      "power :  30\n",
      "status :  True\n",
      "pulsemod_state :  False\n",
      "IQ_state :  False\n",
      "\n",
      "\n"
     ]
    }
   ],
   "source": [
    "simulated_two_het_source.frequency(6e9)\n",
    "simulated_two_het_source.power(-15)\n",
    "simulated_two_het_source.status(1)\n",
    "simulated_two_het_source.demodulation_frequency(20e6)\n",
    "simulated_two_het_source.localos_power(30)\n",
    "simulated_two_het_source.mode('sidebanded_modulated')\n",
    "print_params(simulated_two_het_source)\n",
    "print_params(carrier_source)\n",
    "print_params(localos_source)"
   ]
  },
  {
   "cell_type": "markdown",
   "metadata": {},
   "source": [
    "Mode acts as before excepth that in 'basic' the localos is also switched off (in other modes it's status matches the status parameter value)"
   ]
  },
  {
   "cell_type": "code",
   "execution_count": 12,
   "metadata": {},
   "outputs": [
    {
     "name": "stdout",
     "output_type": "stream",
     "text": [
      "True\n",
      "False\n"
     ]
    }
   ],
   "source": [
    "simulated_two_het_source.mode('basic')\n",
    "print(simulated_two_het_source.status())\n",
    "print(localos_source.status())"
   ]
  },
  {
   "cell_type": "code",
   "execution_count": null,
   "metadata": {},
   "outputs": [],
   "source": []
  }
 ],
 "metadata": {
  "kernelspec": {
   "display_name": "Python 3",
   "language": "python",
   "name": "python3"
  },
  "language_info": {
   "codemirror_mode": {
    "name": "ipython",
    "version": 3
   },
   "file_extension": ".py",
   "mimetype": "text/x-python",
   "name": "python",
   "nbconvert_exporter": "python",
   "pygments_lexer": "ipython3",
   "version": "3.6.7"
  }
 },
 "nbformat": 4,
 "nbformat_minor": 2
}
