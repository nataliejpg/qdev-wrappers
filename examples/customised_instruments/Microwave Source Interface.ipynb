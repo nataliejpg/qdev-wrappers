{
 "cells": [
  {
   "cell_type": "code",
   "execution_count": 1,
   "metadata": {},
   "outputs": [],
   "source": [
    "from qcodes.instrument_drivers.rohde_schwarz.SGS100A import RohdeSchwarz_SGS100A\n",
    "from qdev_wrappers.customised_instruments.interfaces.microwave_source_interface import SimulatedMicrowaveSourceInterface, SGS100AMicrowaveSourceInterface"
   ]
  },
  {
   "cell_type": "code",
   "execution_count": 2,
   "metadata": {},
   "outputs": [],
   "source": [
    "def print_params(instr):\n",
    "    for k, v in instr.parameters.items():\n",
    "        print(k, ': ', v())"
   ]
  },
  {
   "cell_type": "markdown",
   "metadata": {},
   "source": [
    "### Simulated Microwave Source"
   ]
  },
  {
   "cell_type": "markdown",
   "metadata": {},
   "source": [
    "NB status, IQ_state and pulsemod_state can be set with any (reasonable) bool-like argument and the 'raw value' set on the simulated instrument will be 1 or 0 but they will always return booleans as per the on_off_val_mapping in use"
   ]
  },
  {
   "cell_type": "code",
   "execution_count": 3,
   "metadata": {},
   "outputs": [],
   "source": [
    "simulated_source_if = SimulatedMicrowaveSourceInterface('simulated_source')\n",
    "simulated_source_if.frequency(6e9)\n",
    "simulated_source_if.power(-10)\n",
    "simulated_source_if.status(1)\n",
    "simulated_source_if.IQ_state(1)\n",
    "simulated_source_if.pulsemod_state(0)"
   ]
  },
  {
   "cell_type": "code",
   "execution_count": 4,
   "metadata": {},
   "outputs": [
    {
     "name": "stdout",
     "output_type": "stream",
     "text": [
      "IDN :  {'vendor': None, 'model': 'simulated_source', 'serial': None, 'firmware': None}\n",
      "frequency :  6000000000.0\n",
      "power :  -10\n",
      "status :  True\n",
      "IQ_state :  True\n",
      "pulsemod_state :  False\n"
     ]
    }
   ],
   "source": [
    "print_params(simulated_source_if)"
   ]
  },
  {
   "cell_type": "markdown",
   "metadata": {},
   "source": [
    "### Real Microwave Source"
   ]
  },
  {
   "cell_type": "markdown",
   "metadata": {},
   "source": [
    "Now using a real microwave source and checking it works..."
   ]
  },
  {
   "cell_type": "code",
   "execution_count": null,
   "metadata": {},
   "outputs": [],
   "source": [
    "instrument = RohdeSchwarz_SGS100A('microwave_source', '')\n",
    "real_source_if = SGS100AMicrowaveSourceInterface('real_source', instrument)\n",
    "real_source_if.frequency(6e9)\n",
    "real_source_if.power(-10)\n",
    "real_source_if.status(1)\n",
    "real_source_if.IQ_state(1)\n",
    "real_source_if.pulsemod_state(0)"
   ]
  },
  {
   "cell_type": "code",
   "execution_count": null,
   "metadata": {},
   "outputs": [],
   "source": [
    "print_params(real_source_if)"
   ]
  },
  {
   "cell_type": "markdown",
   "metadata": {},
   "source": [
    "Check parameters match those on instrument"
   ]
  },
  {
   "cell_type": "code",
   "execution_count": null,
   "metadata": {},
   "outputs": [],
   "source": [
    "print_params(instrument)"
   ]
  }
 ],
 "metadata": {
  "kernelspec": {
   "display_name": "Python 3",
   "language": "python",
   "name": "python3"
  },
  "language_info": {
   "codemirror_mode": {
    "name": "ipython",
    "version": 3
   },
   "file_extension": ".py",
   "mimetype": "text/x-python",
   "name": "python",
   "nbconvert_exporter": "python",
   "pygments_lexer": "ipython3",
   "version": "3.6.7"
  }
 },
 "nbformat": 4,
 "nbformat_minor": 2
}
