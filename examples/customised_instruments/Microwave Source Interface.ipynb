{
 "cells": [
  {
   "cell_type": "markdown",
   "metadata": {},
   "source": [
    "# Microwave source interface\n",
    "\n",
    "This instrument is an interface for a real microwave source or can be used to simulate one. The idea being that the underlying instrument can be swapped out but the API remains fixed so the rest of the code in use stays the same.\n",
    "\n",
    "A simulated microwave source initialises with defaults. A real microwave source will also initialise with parameter values as None (but if you call get it will update them)<br><br>\n",
    "NB: status, IQ_state, dual_output and pulsemod_state can be set with any (reasonable) bool-like argument and the 'raw value' set on the simulated instrument will be 1 or 0 but they will always return booleans as per the on_off_val_mapping in use. On a real instrument IQ_state and dual_output_state can only be set if the instrument has the IQ option (and is not CW)."
   ]
  },
  {
   "cell_type": "code",
   "execution_count": 1,
   "metadata": {},
   "outputs": [
    {
     "name": "stderr",
     "output_type": "stream",
     "text": [
      "/Users/natalie/Documents/PhD/Qdev/QdevWrappers/qdev_wrappers/logger.py:16: UserWarning: The logger.py of qdev-wrappers is deprecated and will be removed soon. Please use the logger of QCoDeS instead.\n",
      "  warnings.warn('The logger.py of qdev-wrappers is deprecated and will be '\n",
      "/Users/natalie/Documents/PhD/Qdev/QdevWrappers/qdev_wrappers/station_configurator.py:21: UserWarning: ruamel yaml not found station configurator is falling back to pyyaml. It's highly recommended to install ruamel.yaml. This fixes issues with scientific notation and duplicate instruments in the YAML file\n",
      "  warnings.warn(\"ruamel yaml not found station configurator is falling back to pyyaml. \"\n"
     ]
    }
   ],
   "source": [
    "from qcodes import Instrument\n",
    "from qdev_wrappers.station_configurator import StationConfigurator\n",
    "from qdev_wrappers.customised_instruments.interfaces.microwave_source_interface import SimulatedMicrowaveSourceInterface, SGS100AExternalMicrowaveSourceInterface, SGS100AMicrowaveSourceInterface"
   ]
  },
  {
   "cell_type": "code",
   "execution_count": 2,
   "metadata": {},
   "outputs": [],
   "source": [
    "real_instrument_present = False"
   ]
  },
  {
   "cell_type": "code",
   "execution_count": 3,
   "metadata": {},
   "outputs": [],
   "source": [
    "def print_params(instr):\n",
    "    print(instr.name.upper())\n",
    "    for k, v in instr.parameters.items():\n",
    "        if k != 'IDN':\n",
    "            print(k, ': ', v())\n",
    "    print('\\n')"
   ]
  },
  {
   "cell_type": "code",
   "execution_count": 9,
   "metadata": {},
   "outputs": [
    {
     "name": "stdout",
     "output_type": "stream",
     "text": [
      "SIMULATED_SOURCE\n",
      "frequency :  7000000000.0\n",
      "power :  -10\n",
      "status :  0\n",
      "pulsemod_state :  0\n",
      "IQ_state :  0\n",
      "dual_output_state :  0\n",
      "\n",
      "\n"
     ]
    }
   ],
   "source": [
    "try:\n",
    "    Instrument.remove_instance(source_if)\n",
    "    Instrument.remove_instance(instrument)\n",
    "except NameError:\n",
    "    pass\n",
    "if real_instrument_present:\n",
    "    sc = StationConfigurator()\n",
    "    instrument = sc.load_instrument('microwave_source')\n",
    "    source_if = SGS100AMicrowaveSourceInterface('real_source', instrument)\n",
    "else:\n",
    "    source_if = SimulatedMicrowaveSourceInterface('simulated_source')\n",
    "\n",
    "print_params(source_if)"
   ]
  },
  {
   "cell_type": "code",
   "execution_count": 5,
   "metadata": {},
   "outputs": [
    {
     "name": "stdout",
     "output_type": "stream",
     "text": [
      "SIMULATED_SOURCE\n",
      "frequency :  8000000000.0\n",
      "power :  -15\n",
      "status :  1\n",
      "pulsemod_state :  1\n",
      "IQ_state :  0\n",
      "dual_output_state :  0\n",
      "\n",
      "\n"
     ]
    }
   ],
   "source": [
    "source_if.frequency(8e9)\n",
    "source_if.power(-15)\n",
    "source_if.status(1)\n",
    "source_if.IQ_state(0)\n",
    "source_if.pulsemod_state(1)\n",
    "print_params(source_if)"
   ]
  },
  {
   "cell_type": "markdown",
   "metadata": {},
   "source": [
    "Since some sources do not have the IQ option in hardware this can be entered manually on initialisation and the parameter will not be settable and will be fixed to off. The same is true for the dual_output option. <br> <br>If an external mixer is present it is possible to use the interface where the IQ_state parameter will not be settable but will be fixed to on. The latter option is only available for the real instruments."
   ]
  },
  {
   "cell_type": "code",
   "execution_count": 11,
   "metadata": {},
   "outputs": [],
   "source": [
    "# choose True for the external mixer option and False for the no IQ\n",
    "fixed_IQ_state = False"
   ]
  },
  {
   "cell_type": "code",
   "execution_count": 12,
   "metadata": {},
   "outputs": [
    {
     "name": "stdout",
     "output_type": "stream",
     "text": [
      "('Parmeter IQ_state not settable', 'setting simulated_source_cw_IQ_state to 1')\n"
     ]
    }
   ],
   "source": [
    "try:\n",
    "    Instrument.remove_instance(cw_source_if)\n",
    "except NameError:\n",
    "    pass\n",
    "\n",
    "if fixed_IQ_state:\n",
    "    cw_source_if = SGS100AExternalMicrowaveSourceInterface('real_source_cw', instrument)\n",
    "elif real_instrument_present:\n",
    "    cw_source_if = SGS100AMicrowaveSourceInterface('real_source_cw', instrument, IQ=False)\n",
    "else:\n",
    "    cw_source_if = SimulatedMicrowaveSourceInterface('simulated_source_cw', IQ=False)\n",
    "\n",
    "try:\n",
    "    cw_source_if.IQ_state(1)\n",
    "except RuntimeError as e:\n",
    "    print(e)"
   ]
  },
  {
   "cell_type": "code",
   "execution_count": null,
   "metadata": {},
   "outputs": [],
   "source": []
  }
 ],
 "metadata": {
  "kernelspec": {
   "display_name": "Python 3",
   "language": "python",
   "name": "python3"
  },
  "language_info": {
   "codemirror_mode": {
    "name": "ipython",
    "version": 3
   },
   "file_extension": ".py",
   "mimetype": "text/x-python",
   "name": "python",
   "nbconvert_exporter": "python",
   "pygments_lexer": "ipython3",
   "version": "3.6.7"
  }
 },
 "nbformat": 4,
 "nbformat_minor": 2
}
