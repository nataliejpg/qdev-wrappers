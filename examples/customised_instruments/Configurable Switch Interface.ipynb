{
 "cells": [
  {
   "cell_type": "code",
   "execution_count": 2,
   "metadata": {},
   "outputs": [
    {
     "name": "stdout",
     "output_type": "stream",
     "text": [
      "can't import real switch, probably because you arent on a PC?\n"
     ]
    }
   ],
   "source": [
    "from qdev_wrappers.customised_instruments.interfaces.configurable_switch_interface import RealConfigurableSwitchInterface, SimulatedConfigurableSwitch\n",
    "try:\n",
    "    from qcodes.instrument_drivers.Minicircuits.USB_SPDT import USB_SPDT\n",
    "except ImportError:\n",
    "    print(\"can't import real switch, probably because you arent on a PC?\" )"
   ]
  },
  {
   "cell_type": "code",
   "execution_count": 3,
   "metadata": {},
   "outputs": [],
   "source": [
    "def print_params(instr):\n",
    "    for k, v in instr.parameters.items():\n",
    "        print(k, ': ', v())"
   ]
  },
  {
   "cell_type": "markdown",
   "metadata": {},
   "source": [
    "### Simulated switch"
   ]
  },
  {
   "cell_type": "code",
   "execution_count": 4,
   "metadata": {},
   "outputs": [],
   "source": [
    "simulated_switch_if = SimulatedConfigurableSwitch('simulated_switch', {'time_domain': {'a': 1, 'b': 2}, \n",
    "                                                                       'frequency_domain': {'a': 2, 'b': 1}})"
   ]
  },
  {
   "cell_type": "markdown",
   "metadata": {},
   "source": [
    "Set configuration and check parameter values"
   ]
  },
  {
   "cell_type": "code",
   "execution_count": 5,
   "metadata": {},
   "outputs": [],
   "source": [
    "simulated_switch_if.configuration('frequency_domain')"
   ]
  },
  {
   "cell_type": "code",
   "execution_count": 6,
   "metadata": {},
   "outputs": [
    {
     "name": "stdout",
     "output_type": "stream",
     "text": [
      "IDN :  {'vendor': None, 'model': 'simulated_switch', 'serial': None, 'firmware': None}\n",
      "b :  1\n",
      "a :  2\n",
      "configuration :  frequency_domain\n"
     ]
    }
   ],
   "source": [
    "print_params(simulated_switch_if)"
   ]
  },
  {
   "cell_type": "markdown",
   "metadata": {},
   "source": [
    "Set specific switch parameter and check that configuration value is cleared"
   ]
  },
  {
   "cell_type": "code",
   "execution_count": 7,
   "metadata": {},
   "outputs": [],
   "source": [
    "simulated_switch_if.a(1)"
   ]
  },
  {
   "cell_type": "code",
   "execution_count": 8,
   "metadata": {},
   "outputs": [
    {
     "name": "stdout",
     "output_type": "stream",
     "text": [
      "IDN :  {'vendor': None, 'model': 'simulated_switch', 'serial': None, 'firmware': None}\n",
      "b :  1\n",
      "a :  1\n",
      "configuration :  None\n"
     ]
    }
   ],
   "source": [
    "print_params(simulated_switch_if)"
   ]
  },
  {
   "cell_type": "markdown",
   "metadata": {},
   "source": [
    "### Real switch"
   ]
  },
  {
   "cell_type": "code",
   "execution_count": 9,
   "metadata": {},
   "outputs": [
    {
     "ename": "NameError",
     "evalue": "name 'USB_SPDT' is not defined",
     "output_type": "error",
     "traceback": [
      "\u001b[0;31m---------------------------------------------------------------------------\u001b[0m",
      "\u001b[0;31mNameError\u001b[0m                                 Traceback (most recent call last)",
      "\u001b[0;32m<ipython-input-9-85a514fe0660>\u001b[0m in \u001b[0;36m<module>\u001b[0;34m\u001b[0m\n\u001b[0;32m----> 1\u001b[0;31m \u001b[0minstrument\u001b[0m \u001b[0;34m=\u001b[0m \u001b[0mUSB_SPDT\u001b[0m\u001b[0;34m(\u001b[0m\u001b[0;34m'switch'\u001b[0m\u001b[0;34m)\u001b[0m\u001b[0;34m\u001b[0m\u001b[0;34m\u001b[0m\u001b[0m\n\u001b[0m",
      "\u001b[0;31mNameError\u001b[0m: name 'USB_SPDT' is not defined"
     ]
    }
   ],
   "source": [
    "instrument = USB_SPDT('switch')"
   ]
  },
  {
   "cell_type": "code",
   "execution_count": null,
   "metadata": {},
   "outputs": [],
   "source": [
    "real_switch_if = SimulatedConfigurableSwitch('real_switch',\n",
    "                                             {'time_domain': {'a': 1, 'b': 2}, \n",
    "                                              'frequency_domain': {'a': 2, 'b': 1}},\n",
    "                                             switch=instrument)"
   ]
  },
  {
   "cell_type": "markdown",
   "metadata": {},
   "source": [
    "Set configuration and check parameter values"
   ]
  },
  {
   "cell_type": "code",
   "execution_count": null,
   "metadata": {},
   "outputs": [],
   "source": [
    "real_switch_if.configuration('frequency_domain')"
   ]
  },
  {
   "cell_type": "code",
   "execution_count": null,
   "metadata": {},
   "outputs": [],
   "source": [
    "print_params(real_switch_if)"
   ]
  },
  {
   "cell_type": "markdown",
   "metadata": {},
   "source": [
    "Check that real switch parameters match"
   ]
  },
  {
   "cell_type": "code",
   "execution_count": null,
   "metadata": {},
   "outputs": [],
   "source": [
    "print_params(instrument)"
   ]
  }
 ],
 "metadata": {
  "kernelspec": {
   "display_name": "Python 3",
   "language": "python",
   "name": "python3"
  },
  "language_info": {
   "codemirror_mode": {
    "name": "ipython",
    "version": 3
   },
   "file_extension": ".py",
   "mimetype": "text/x-python",
   "name": "python",
   "nbconvert_exporter": "python",
   "pygments_lexer": "ipython3",
   "version": "3.6.7"
  }
 },
 "nbformat": 4,
 "nbformat_minor": 2
}
